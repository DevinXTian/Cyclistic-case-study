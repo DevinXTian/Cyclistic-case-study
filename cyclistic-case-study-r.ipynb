{
 "cells": [
  {
   "cell_type": "markdown",
   "id": "7cf52acc",
   "metadata": {
    "papermill": {
     "duration": 0.007605,
     "end_time": "2023-02-22T03:23:59.465416",
     "exception": false,
     "start_time": "2023-02-22T03:23:59.457811",
     "status": "completed"
    },
    "tags": []
   },
   "source": [
    "# __Cyclistic Case Study__\n",
    "\n",
    "### Background\n",
    "\n",
    "Cyclistic launched a bike-sharing program in 2016 with 5,824 bikes and 692 available stations across Chicago. There are 3 different pricing plans: single-ride, full-day, and annual. Riders that purchase single-ride or full-day are called casual riders. Riders that purchase annual are called Cyclistic members. According to financial analysts, members are more profitable.\n",
    "\n",
    "## PHASE 1: ASK\n",
    "\n",
    "### Key Objectives:\n",
    "\n",
    "1. Identify the key stakeholders:\n",
    "- Lily Moreno (director of marketing), marketing analytics team, executive team (decide whether to approve recommendations)\n",
    "\n",
    "2. Define the business tasks:\n",
    "- Maximize number of memberships\n",
    "- Create marketing strategy to convert casual riders to annual members\n",
    "\n",
    "3. Questions to answer:\n",
    "- How do annual riders and casual riders use the bikes differently?\n",
    "- Why would casual riders buy annual membership?\n",
    "- How can the company use digital media to influence casual riders to become members?\n",
    "\n",
    "## PHASE 2: PREPARE\n",
    "\n",
    "1. Identify the data source:\n",
    "- Public Cyclistic [data sets](https://divvy-tripdata.s3.amazonaws.com/index.html) ([licensed](https://ride.divvybikes.com/data-license-agreement) under Motivate International Inc.)\n",
    "- Most recent 12 months used (01/2023 to 02/2022)\n",
    "\n",
    "2. Determine the credibility of the data source, I will use the ROCCC approach.\n",
    "- Reliability: MED - This data comes from the company, so it should be fairly reliable.\n",
    "- Original: HIGH - This data is gathered by the company directly.\n",
    "- Comprehensive: MED - This data provides a wide variety of useful information but does not have any information on the demographic\n",
    "- Current: HIGH - This data is from the most recent 12 months.\n",
    "- Cited: LOW - Unknown.\n",
    "\n",
    "This data source is fairly reliable and can be used for high-level insights and recommendations.\n",
    "\n",
    "## PHASE 3: PROCESS\n",
    "\n",
    "### Load the packages"
   ]
  },
  {
   "cell_type": "code",
   "execution_count": 1,
   "id": "201f1d86",
   "metadata": {
    "_execution_state": "idle",
    "_uuid": "051d70d956493feee0c6d64651c6a088724dca2a",
    "execution": {
     "iopub.execute_input": "2023-02-22T03:23:59.484042Z",
     "iopub.status.busy": "2023-02-22T03:23:59.482015Z",
     "iopub.status.idle": "2023-02-22T03:24:01.069757Z",
     "shell.execute_reply": "2023-02-22T03:24:01.067970Z"
    },
    "papermill": {
     "duration": 1.598638,
     "end_time": "2023-02-22T03:24:01.072127",
     "exception": false,
     "start_time": "2023-02-22T03:23:59.473489",
     "status": "completed"
    },
    "tags": []
   },
   "outputs": [
    {
     "name": "stderr",
     "output_type": "stream",
     "text": [
      "── \u001b[1mAttaching packages\u001b[22m ─────────────────────────────────────── tidyverse 1.3.2 ──\n",
      "\u001b[32m✔\u001b[39m \u001b[34mggplot2\u001b[39m 3.4.0      \u001b[32m✔\u001b[39m \u001b[34mpurrr  \u001b[39m 1.0.1 \n",
      "\u001b[32m✔\u001b[39m \u001b[34mtibble \u001b[39m 3.1.8      \u001b[32m✔\u001b[39m \u001b[34mdplyr  \u001b[39m 1.0.10\n",
      "\u001b[32m✔\u001b[39m \u001b[34mtidyr  \u001b[39m 1.2.1      \u001b[32m✔\u001b[39m \u001b[34mstringr\u001b[39m 1.5.0 \n",
      "\u001b[32m✔\u001b[39m \u001b[34mreadr  \u001b[39m 2.1.3      \u001b[32m✔\u001b[39m \u001b[34mforcats\u001b[39m 0.5.2 \n",
      "── \u001b[1mConflicts\u001b[22m ────────────────────────────────────────── tidyverse_conflicts() ──\n",
      "\u001b[31m✖\u001b[39m \u001b[34mdplyr\u001b[39m::\u001b[32marrange()\u001b[39m   masks \u001b[34mplyr\u001b[39m::arrange()\n",
      "\u001b[31m✖\u001b[39m \u001b[34mpurrr\u001b[39m::\u001b[32mcompact()\u001b[39m   masks \u001b[34mplyr\u001b[39m::compact()\n",
      "\u001b[31m✖\u001b[39m \u001b[34mdplyr\u001b[39m::\u001b[32mcount()\u001b[39m     masks \u001b[34mplyr\u001b[39m::count()\n",
      "\u001b[31m✖\u001b[39m \u001b[34mdplyr\u001b[39m::\u001b[32mfailwith()\u001b[39m  masks \u001b[34mplyr\u001b[39m::failwith()\n",
      "\u001b[31m✖\u001b[39m \u001b[34mdplyr\u001b[39m::\u001b[32mfilter()\u001b[39m    masks \u001b[34mstats\u001b[39m::filter()\n",
      "\u001b[31m✖\u001b[39m \u001b[34mdplyr\u001b[39m::\u001b[32mid()\u001b[39m        masks \u001b[34mplyr\u001b[39m::id()\n",
      "\u001b[31m✖\u001b[39m \u001b[34mdplyr\u001b[39m::\u001b[32mlag()\u001b[39m       masks \u001b[34mstats\u001b[39m::lag()\n",
      "\u001b[31m✖\u001b[39m \u001b[34mdplyr\u001b[39m::\u001b[32mmutate()\u001b[39m    masks \u001b[34mplyr\u001b[39m::mutate()\n",
      "\u001b[31m✖\u001b[39m \u001b[34mdplyr\u001b[39m::\u001b[32mrename()\u001b[39m    masks \u001b[34mplyr\u001b[39m::rename()\n",
      "\u001b[31m✖\u001b[39m \u001b[34mdplyr\u001b[39m::\u001b[32msummarise()\u001b[39m masks \u001b[34mplyr\u001b[39m::summarise()\n",
      "\u001b[31m✖\u001b[39m \u001b[34mdplyr\u001b[39m::\u001b[32msummarize()\u001b[39m masks \u001b[34mplyr\u001b[39m::summarize()\n",
      "Loading required package: timechange\n",
      "\n",
      "\n",
      "Attaching package: ‘lubridate’\n",
      "\n",
      "\n",
      "The following objects are masked from ‘package:base’:\n",
      "\n",
      "    date, intersect, setdiff, union\n",
      "\n",
      "\n"
     ]
    }
   ],
   "source": [
    "library(plyr)\n",
    "library(tidyverse)\n",
    "library(lubridate)\n",
    "library(geodist)\n",
    "library(dplyr)"
   ]
  },
  {
   "cell_type": "markdown",
   "id": "486e9924",
   "metadata": {
    "papermill": {
     "duration": 0.00684,
     "end_time": "2023-02-22T03:24:01.086082",
     "exception": false,
     "start_time": "2023-02-22T03:24:01.079242",
     "status": "completed"
    },
    "tags": []
   },
   "source": [
    "### Import the data sets\n",
    "\n",
    "I will be merging the data sets all into one data frame."
   ]
  },
  {
   "cell_type": "code",
   "execution_count": 2,
   "id": "3dadaf44",
   "metadata": {
    "execution": {
     "iopub.execute_input": "2023-02-22T03:24:01.132616Z",
     "iopub.status.busy": "2023-02-22T03:24:01.102761Z",
     "iopub.status.idle": "2023-02-22T03:24:41.453815Z",
     "shell.execute_reply": "2023-02-22T03:24:41.451930Z"
    },
    "papermill": {
     "duration": 40.363987,
     "end_time": "2023-02-22T03:24:41.457915",
     "exception": false,
     "start_time": "2023-02-22T03:24:01.093928",
     "status": "completed"
    },
    "tags": []
   },
   "outputs": [
    {
     "name": "stderr",
     "output_type": "stream",
     "text": [
      "\u001b[1mRows: \u001b[22m\u001b[34m115609\u001b[39m \u001b[1mColumns: \u001b[22m\u001b[34m13\u001b[39m\n",
      "\u001b[36m──\u001b[39m \u001b[1mColumn specification\u001b[22m \u001b[36m────────────────────────────────────────────────────────\u001b[39m\n",
      "\u001b[1mDelimiter:\u001b[22m \",\"\n",
      "\u001b[31mchr\u001b[39m  (7): ride_id, rideable_type, start_station_name, start_station_id, end_...\n",
      "\u001b[32mdbl\u001b[39m  (4): start_lat, start_lng, end_lat, end_lng\n",
      "\u001b[34mdttm\u001b[39m (2): started_at, ended_at\n",
      "\n",
      "\u001b[36mℹ\u001b[39m Use `spec()` to retrieve the full column specification for this data.\n",
      "\u001b[36mℹ\u001b[39m Specify the column types or set `show_col_types = FALSE` to quiet this message.\n",
      "\u001b[1mRows: \u001b[22m\u001b[34m284042\u001b[39m \u001b[1mColumns: \u001b[22m\u001b[34m13\u001b[39m\n",
      "\u001b[36m──\u001b[39m \u001b[1mColumn specification\u001b[22m \u001b[36m────────────────────────────────────────────────────────\u001b[39m\n",
      "\u001b[1mDelimiter:\u001b[22m \",\"\n",
      "\u001b[31mchr\u001b[39m  (7): ride_id, rideable_type, start_station_name, start_station_id, end_...\n",
      "\u001b[32mdbl\u001b[39m  (4): start_lat, start_lng, end_lat, end_lng\n",
      "\u001b[34mdttm\u001b[39m (2): started_at, ended_at\n",
      "\n",
      "\u001b[36mℹ\u001b[39m Use `spec()` to retrieve the full column specification for this data.\n",
      "\u001b[36mℹ\u001b[39m Specify the column types or set `show_col_types = FALSE` to quiet this message.\n",
      "\u001b[1mRows: \u001b[22m\u001b[34m371249\u001b[39m \u001b[1mColumns: \u001b[22m\u001b[34m13\u001b[39m\n",
      "\u001b[36m──\u001b[39m \u001b[1mColumn specification\u001b[22m \u001b[36m────────────────────────────────────────────────────────\u001b[39m\n",
      "\u001b[1mDelimiter:\u001b[22m \",\"\n",
      "\u001b[31mchr\u001b[39m  (7): ride_id, rideable_type, start_station_name, start_station_id, end_...\n",
      "\u001b[32mdbl\u001b[39m  (4): start_lat, start_lng, end_lat, end_lng\n",
      "\u001b[34mdttm\u001b[39m (2): started_at, ended_at\n",
      "\n",
      "\u001b[36mℹ\u001b[39m Use `spec()` to retrieve the full column specification for this data.\n",
      "\u001b[36mℹ\u001b[39m Specify the column types or set `show_col_types = FALSE` to quiet this message.\n",
      "\u001b[1mRows: \u001b[22m\u001b[34m634858\u001b[39m \u001b[1mColumns: \u001b[22m\u001b[34m13\u001b[39m\n",
      "\u001b[36m──\u001b[39m \u001b[1mColumn specification\u001b[22m \u001b[36m────────────────────────────────────────────────────────\u001b[39m\n",
      "\u001b[1mDelimiter:\u001b[22m \",\"\n",
      "\u001b[31mchr\u001b[39m  (7): ride_id, rideable_type, start_station_name, start_station_id, end_...\n",
      "\u001b[32mdbl\u001b[39m  (4): start_lat, start_lng, end_lat, end_lng\n",
      "\u001b[34mdttm\u001b[39m (2): started_at, ended_at\n",
      "\n",
      "\u001b[36mℹ\u001b[39m Use `spec()` to retrieve the full column specification for this data.\n",
      "\u001b[36mℹ\u001b[39m Specify the column types or set `show_col_types = FALSE` to quiet this message.\n",
      "\u001b[1mRows: \u001b[22m\u001b[34m769204\u001b[39m \u001b[1mColumns: \u001b[22m\u001b[34m13\u001b[39m\n",
      "\u001b[36m──\u001b[39m \u001b[1mColumn specification\u001b[22m \u001b[36m────────────────────────────────────────────────────────\u001b[39m\n",
      "\u001b[1mDelimiter:\u001b[22m \",\"\n",
      "\u001b[31mchr\u001b[39m  (7): ride_id, rideable_type, start_station_name, start_station_id, end_...\n",
      "\u001b[32mdbl\u001b[39m  (4): start_lat, start_lng, end_lat, end_lng\n",
      "\u001b[34mdttm\u001b[39m (2): started_at, ended_at\n",
      "\n",
      "\u001b[36mℹ\u001b[39m Use `spec()` to retrieve the full column specification for this data.\n",
      "\u001b[36mℹ\u001b[39m Specify the column types or set `show_col_types = FALSE` to quiet this message.\n",
      "\u001b[1mRows: \u001b[22m\u001b[34m823488\u001b[39m \u001b[1mColumns: \u001b[22m\u001b[34m13\u001b[39m\n",
      "\u001b[36m──\u001b[39m \u001b[1mColumn specification\u001b[22m \u001b[36m────────────────────────────────────────────────────────\u001b[39m\n",
      "\u001b[1mDelimiter:\u001b[22m \",\"\n",
      "\u001b[31mchr\u001b[39m  (7): ride_id, rideable_type, start_station_name, start_station_id, end_...\n",
      "\u001b[32mdbl\u001b[39m  (4): start_lat, start_lng, end_lat, end_lng\n",
      "\u001b[34mdttm\u001b[39m (2): started_at, ended_at\n",
      "\n",
      "\u001b[36mℹ\u001b[39m Use `spec()` to retrieve the full column specification for this data.\n",
      "\u001b[36mℹ\u001b[39m Specify the column types or set `show_col_types = FALSE` to quiet this message.\n",
      "\u001b[1mRows: \u001b[22m\u001b[34m785932\u001b[39m \u001b[1mColumns: \u001b[22m\u001b[34m13\u001b[39m\n",
      "\u001b[36m──\u001b[39m \u001b[1mColumn specification\u001b[22m \u001b[36m────────────────────────────────────────────────────────\u001b[39m\n",
      "\u001b[1mDelimiter:\u001b[22m \",\"\n",
      "\u001b[31mchr\u001b[39m  (7): ride_id, rideable_type, start_station_name, start_station_id, end_...\n",
      "\u001b[32mdbl\u001b[39m  (4): start_lat, start_lng, end_lat, end_lng\n",
      "\u001b[34mdttm\u001b[39m (2): started_at, ended_at\n",
      "\n",
      "\u001b[36mℹ\u001b[39m Use `spec()` to retrieve the full column specification for this data.\n",
      "\u001b[36mℹ\u001b[39m Specify the column types or set `show_col_types = FALSE` to quiet this message.\n",
      "\u001b[1mRows: \u001b[22m\u001b[34m701339\u001b[39m \u001b[1mColumns: \u001b[22m\u001b[34m13\u001b[39m\n",
      "\u001b[36m──\u001b[39m \u001b[1mColumn specification\u001b[22m \u001b[36m────────────────────────────────────────────────────────\u001b[39m\n",
      "\u001b[1mDelimiter:\u001b[22m \",\"\n",
      "\u001b[31mchr\u001b[39m  (7): ride_id, rideable_type, start_station_name, start_station_id, end_...\n",
      "\u001b[32mdbl\u001b[39m  (4): start_lat, start_lng, end_lat, end_lng\n",
      "\u001b[34mdttm\u001b[39m (2): started_at, ended_at\n",
      "\n",
      "\u001b[36mℹ\u001b[39m Use `spec()` to retrieve the full column specification for this data.\n",
      "\u001b[36mℹ\u001b[39m Specify the column types or set `show_col_types = FALSE` to quiet this message.\n",
      "\u001b[1mRows: \u001b[22m\u001b[34m558685\u001b[39m \u001b[1mColumns: \u001b[22m\u001b[34m13\u001b[39m\n",
      "\u001b[36m──\u001b[39m \u001b[1mColumn specification\u001b[22m \u001b[36m────────────────────────────────────────────────────────\u001b[39m\n",
      "\u001b[1mDelimiter:\u001b[22m \",\"\n",
      "\u001b[31mchr\u001b[39m  (7): ride_id, rideable_type, start_station_name, start_station_id, end_...\n",
      "\u001b[32mdbl\u001b[39m  (4): start_lat, start_lng, end_lat, end_lng\n",
      "\u001b[34mdttm\u001b[39m (2): started_at, ended_at\n",
      "\n",
      "\u001b[36mℹ\u001b[39m Use `spec()` to retrieve the full column specification for this data.\n",
      "\u001b[36mℹ\u001b[39m Specify the column types or set `show_col_types = FALSE` to quiet this message.\n",
      "\u001b[1mRows: \u001b[22m\u001b[34m337735\u001b[39m \u001b[1mColumns: \u001b[22m\u001b[34m13\u001b[39m\n",
      "\u001b[36m──\u001b[39m \u001b[1mColumn specification\u001b[22m \u001b[36m────────────────────────────────────────────────────────\u001b[39m\n",
      "\u001b[1mDelimiter:\u001b[22m \",\"\n",
      "\u001b[31mchr\u001b[39m  (7): ride_id, rideable_type, start_station_name, start_station_id, end_...\n",
      "\u001b[32mdbl\u001b[39m  (4): start_lat, start_lng, end_lat, end_lng\n",
      "\u001b[34mdttm\u001b[39m (2): started_at, ended_at\n",
      "\n",
      "\u001b[36mℹ\u001b[39m Use `spec()` to retrieve the full column specification for this data.\n",
      "\u001b[36mℹ\u001b[39m Specify the column types or set `show_col_types = FALSE` to quiet this message.\n",
      "\u001b[1mRows: \u001b[22m\u001b[34m181806\u001b[39m \u001b[1mColumns: \u001b[22m\u001b[34m13\u001b[39m\n",
      "\u001b[36m──\u001b[39m \u001b[1mColumn specification\u001b[22m \u001b[36m────────────────────────────────────────────────────────\u001b[39m\n",
      "\u001b[1mDelimiter:\u001b[22m \",\"\n",
      "\u001b[31mchr\u001b[39m  (7): ride_id, rideable_type, start_station_name, start_station_id, end_...\n",
      "\u001b[32mdbl\u001b[39m  (4): start_lat, start_lng, end_lat, end_lng\n",
      "\u001b[34mdttm\u001b[39m (2): started_at, ended_at\n",
      "\n",
      "\u001b[36mℹ\u001b[39m Use `spec()` to retrieve the full column specification for this data.\n",
      "\u001b[36mℹ\u001b[39m Specify the column types or set `show_col_types = FALSE` to quiet this message.\n",
      "\u001b[1mRows: \u001b[22m\u001b[34m190301\u001b[39m \u001b[1mColumns: \u001b[22m\u001b[34m13\u001b[39m\n",
      "\u001b[36m──\u001b[39m \u001b[1mColumn specification\u001b[22m \u001b[36m────────────────────────────────────────────────────────\u001b[39m\n",
      "\u001b[1mDelimiter:\u001b[22m \",\"\n",
      "\u001b[31mchr\u001b[39m  (7): ride_id, rideable_type, start_station_name, start_station_id, end_...\n",
      "\u001b[32mdbl\u001b[39m  (4): start_lat, start_lng, end_lat, end_lng\n",
      "\u001b[34mdttm\u001b[39m (2): started_at, ended_at\n",
      "\n",
      "\u001b[36mℹ\u001b[39m Use `spec()` to retrieve the full column specification for this data.\n",
      "\u001b[36mℹ\u001b[39m Specify the column types or set `show_col_types = FALSE` to quiet this message.\n"
     ]
    }
   ],
   "source": [
    "m1 <- read_csv('/kaggle/input/google-casestudy-1-2022-2023/202202-divvy-tripdata.csv')\n",
    "m2 <- read_csv('/kaggle/input/google-casestudy-1-2022-2023/202203-divvy-tripdata.csv')\n",
    "m3 <- read_csv('/kaggle/input/google-casestudy-1-2022-2023/202204-divvy-tripdata.csv')\n",
    "m4 <- read_csv('/kaggle/input/google-casestudy-1-2022-2023/202205-divvy-tripdata.csv')\n",
    "m5 <- read_csv('/kaggle/input/google-casestudy-1-2022-2023/202206-divvy-tripdata.csv')\n",
    "m6 <- read_csv('/kaggle/input/google-casestudy-1-2022-2023/202207-divvy-tripdata.csv')\n",
    "m7 <- read_csv('/kaggle/input/google-casestudy-1-2022-2023/202208-divvy-tripdata.csv')\n",
    "m8 <- read_csv('/kaggle/input/google-casestudy-1-2022-2023/202209-divvy-publictripdata.csv')\n",
    "m9 <- read_csv('/kaggle/input/google-casestudy-1-2022-2023/202210-divvy-tripdata.csv')\n",
    "m10 <- read_csv('/kaggle/input/google-casestudy-1-2022-2023/202211-divvy-tripdata.csv')\n",
    "m11 <- read_csv('/kaggle/input/google-casestudy-1-2022-2023/202212-divvy-tripdata.csv')\n",
    "m12 <- read_csv('/kaggle/input/google-casestudy-1-2022-2023/202301-divvy-tripdata.csv')\n",
    "all_data <- bind_rows(m1,m2,m3,m4,m5,m6,m7,m8,m9,m10,m11,m12)"
   ]
  },
  {
   "cell_type": "markdown",
   "id": "1e19fad2",
   "metadata": {
    "papermill": {
     "duration": 0.009078,
     "end_time": "2023-02-22T03:24:41.477893",
     "exception": false,
     "start_time": "2023-02-22T03:24:41.468815",
     "status": "completed"
    },
    "tags": []
   },
   "source": [
    "### Preview the data"
   ]
  },
  {
   "cell_type": "code",
   "execution_count": 3,
   "id": "06d1fc5e",
   "metadata": {
    "execution": {
     "iopub.execute_input": "2023-02-22T03:24:41.499254Z",
     "iopub.status.busy": "2023-02-22T03:24:41.497791Z",
     "iopub.status.idle": "2023-02-22T03:24:41.553297Z",
     "shell.execute_reply": "2023-02-22T03:24:41.551154Z"
    },
    "papermill": {
     "duration": 0.069539,
     "end_time": "2023-02-22T03:24:41.556464",
     "exception": false,
     "start_time": "2023-02-22T03:24:41.486925",
     "status": "completed"
    },
    "tags": []
   },
   "outputs": [
    {
     "data": {
      "text/html": [
       "<table class=\"dataframe\">\n",
       "<caption>A tibble: 6 × 13</caption>\n",
       "<thead>\n",
       "\t<tr><th scope=col>ride_id</th><th scope=col>rideable_type</th><th scope=col>started_at</th><th scope=col>ended_at</th><th scope=col>start_station_name</th><th scope=col>start_station_id</th><th scope=col>end_station_name</th><th scope=col>end_station_id</th><th scope=col>start_lat</th><th scope=col>start_lng</th><th scope=col>end_lat</th><th scope=col>end_lng</th><th scope=col>member_casual</th></tr>\n",
       "\t<tr><th scope=col>&lt;chr&gt;</th><th scope=col>&lt;chr&gt;</th><th scope=col>&lt;dttm&gt;</th><th scope=col>&lt;dttm&gt;</th><th scope=col>&lt;chr&gt;</th><th scope=col>&lt;chr&gt;</th><th scope=col>&lt;chr&gt;</th><th scope=col>&lt;chr&gt;</th><th scope=col>&lt;dbl&gt;</th><th scope=col>&lt;dbl&gt;</th><th scope=col>&lt;dbl&gt;</th><th scope=col>&lt;dbl&gt;</th><th scope=col>&lt;chr&gt;</th></tr>\n",
       "</thead>\n",
       "<tbody>\n",
       "\t<tr><td>E1E065E7ED285C02</td><td>classic_bike</td><td>2022-02-19 18:08:41</td><td>2022-02-19 18:23:56</td><td><span style=white-space:pre-wrap>State St &amp; Randolph St      </span></td><td>TA1305000029</td><td><span style=white-space:pre-wrap>Clark St &amp; Lincoln Ave        </span></td><td><span style=white-space:pre-wrap>13179       </span></td><td>41.88462</td><td>-87.62783</td><td>41.91569</td><td>-87.63460</td><td>member</td></tr>\n",
       "\t<tr><td>1602DCDC5B30FFE3</td><td>classic_bike</td><td>2022-02-20 17:41:30</td><td>2022-02-20 17:45:56</td><td>Halsted St &amp; Wrightwood Ave </td><td>TA1309000061</td><td>Southport Ave &amp; Wrightwood Ave</td><td>TA1307000113</td><td>41.92914</td><td>-87.64908</td><td>41.92877</td><td>-87.66391</td><td>member</td></tr>\n",
       "\t<tr><td>BE7DD2AF4B55C4AF</td><td>classic_bike</td><td>2022-02-25 18:55:56</td><td>2022-02-25 19:09:34</td><td><span style=white-space:pre-wrap>State St &amp; Randolph St      </span></td><td>TA1305000029</td><td><span style=white-space:pre-wrap>Canal St &amp; Adams St           </span></td><td><span style=white-space:pre-wrap>13011       </span></td><td>41.88462</td><td>-87.62783</td><td>41.87926</td><td>-87.63990</td><td>member</td></tr>\n",
       "\t<tr><td>A1789BDF844412BE</td><td>classic_bike</td><td>2022-02-14 11:57:03</td><td>2022-02-14 12:04:00</td><td>Southport Ave &amp; Waveland Ave</td><td><span style=white-space:pre-wrap>13235       </span></td><td><span style=white-space:pre-wrap>Broadway &amp; Sheridan Rd        </span></td><td><span style=white-space:pre-wrap>13323       </span></td><td>41.94815</td><td>-87.66394</td><td>41.95283</td><td>-87.64999</td><td>member</td></tr>\n",
       "\t<tr><td>07DE78092C62F7B3</td><td>classic_bike</td><td>2022-02-16 05:36:06</td><td>2022-02-16 05:39:00</td><td><span style=white-space:pre-wrap>State St &amp; Randolph St      </span></td><td>TA1305000029</td><td><span style=white-space:pre-wrap>Franklin St &amp; Lake St         </span></td><td>TA1307000111</td><td>41.88462</td><td>-87.62783</td><td>41.88584</td><td>-87.63550</td><td>member</td></tr>\n",
       "\t<tr><td>9A2F204F04AB7E24</td><td>classic_bike</td><td>2022-02-07 09:51:57</td><td>2022-02-07 10:07:53</td><td><span style=white-space:pre-wrap>St. Clair St &amp; Erie St      </span></td><td><span style=white-space:pre-wrap>13016       </span></td><td><span style=white-space:pre-wrap>Franklin St &amp; Monroe St       </span></td><td>TA1309000007</td><td>41.89435</td><td>-87.62280</td><td>41.88032</td><td>-87.63519</td><td>member</td></tr>\n",
       "</tbody>\n",
       "</table>\n"
      ],
      "text/latex": [
       "A tibble: 6 × 13\n",
       "\\begin{tabular}{lllllllllllll}\n",
       " ride\\_id & rideable\\_type & started\\_at & ended\\_at & start\\_station\\_name & start\\_station\\_id & end\\_station\\_name & end\\_station\\_id & start\\_lat & start\\_lng & end\\_lat & end\\_lng & member\\_casual\\\\\n",
       " <chr> & <chr> & <dttm> & <dttm> & <chr> & <chr> & <chr> & <chr> & <dbl> & <dbl> & <dbl> & <dbl> & <chr>\\\\\n",
       "\\hline\n",
       "\t E1E065E7ED285C02 & classic\\_bike & 2022-02-19 18:08:41 & 2022-02-19 18:23:56 & State St \\& Randolph St       & TA1305000029 & Clark St \\& Lincoln Ave         & 13179        & 41.88462 & -87.62783 & 41.91569 & -87.63460 & member\\\\\n",
       "\t 1602DCDC5B30FFE3 & classic\\_bike & 2022-02-20 17:41:30 & 2022-02-20 17:45:56 & Halsted St \\& Wrightwood Ave  & TA1309000061 & Southport Ave \\& Wrightwood Ave & TA1307000113 & 41.92914 & -87.64908 & 41.92877 & -87.66391 & member\\\\\n",
       "\t BE7DD2AF4B55C4AF & classic\\_bike & 2022-02-25 18:55:56 & 2022-02-25 19:09:34 & State St \\& Randolph St       & TA1305000029 & Canal St \\& Adams St            & 13011        & 41.88462 & -87.62783 & 41.87926 & -87.63990 & member\\\\\n",
       "\t A1789BDF844412BE & classic\\_bike & 2022-02-14 11:57:03 & 2022-02-14 12:04:00 & Southport Ave \\& Waveland Ave & 13235        & Broadway \\& Sheridan Rd         & 13323        & 41.94815 & -87.66394 & 41.95283 & -87.64999 & member\\\\\n",
       "\t 07DE78092C62F7B3 & classic\\_bike & 2022-02-16 05:36:06 & 2022-02-16 05:39:00 & State St \\& Randolph St       & TA1305000029 & Franklin St \\& Lake St          & TA1307000111 & 41.88462 & -87.62783 & 41.88584 & -87.63550 & member\\\\\n",
       "\t 9A2F204F04AB7E24 & classic\\_bike & 2022-02-07 09:51:57 & 2022-02-07 10:07:53 & St. Clair St \\& Erie St       & 13016        & Franklin St \\& Monroe St        & TA1309000007 & 41.89435 & -87.62280 & 41.88032 & -87.63519 & member\\\\\n",
       "\\end{tabular}\n"
      ],
      "text/markdown": [
       "\n",
       "A tibble: 6 × 13\n",
       "\n",
       "| ride_id &lt;chr&gt; | rideable_type &lt;chr&gt; | started_at &lt;dttm&gt; | ended_at &lt;dttm&gt; | start_station_name &lt;chr&gt; | start_station_id &lt;chr&gt; | end_station_name &lt;chr&gt; | end_station_id &lt;chr&gt; | start_lat &lt;dbl&gt; | start_lng &lt;dbl&gt; | end_lat &lt;dbl&gt; | end_lng &lt;dbl&gt; | member_casual &lt;chr&gt; |\n",
       "|---|---|---|---|---|---|---|---|---|---|---|---|---|\n",
       "| E1E065E7ED285C02 | classic_bike | 2022-02-19 18:08:41 | 2022-02-19 18:23:56 | State St &amp; Randolph St       | TA1305000029 | Clark St &amp; Lincoln Ave         | 13179        | 41.88462 | -87.62783 | 41.91569 | -87.63460 | member |\n",
       "| 1602DCDC5B30FFE3 | classic_bike | 2022-02-20 17:41:30 | 2022-02-20 17:45:56 | Halsted St &amp; Wrightwood Ave  | TA1309000061 | Southport Ave &amp; Wrightwood Ave | TA1307000113 | 41.92914 | -87.64908 | 41.92877 | -87.66391 | member |\n",
       "| BE7DD2AF4B55C4AF | classic_bike | 2022-02-25 18:55:56 | 2022-02-25 19:09:34 | State St &amp; Randolph St       | TA1305000029 | Canal St &amp; Adams St            | 13011        | 41.88462 | -87.62783 | 41.87926 | -87.63990 | member |\n",
       "| A1789BDF844412BE | classic_bike | 2022-02-14 11:57:03 | 2022-02-14 12:04:00 | Southport Ave &amp; Waveland Ave | 13235        | Broadway &amp; Sheridan Rd         | 13323        | 41.94815 | -87.66394 | 41.95283 | -87.64999 | member |\n",
       "| 07DE78092C62F7B3 | classic_bike | 2022-02-16 05:36:06 | 2022-02-16 05:39:00 | State St &amp; Randolph St       | TA1305000029 | Franklin St &amp; Lake St          | TA1307000111 | 41.88462 | -87.62783 | 41.88584 | -87.63550 | member |\n",
       "| 9A2F204F04AB7E24 | classic_bike | 2022-02-07 09:51:57 | 2022-02-07 10:07:53 | St. Clair St &amp; Erie St       | 13016        | Franklin St &amp; Monroe St        | TA1309000007 | 41.89435 | -87.62280 | 41.88032 | -87.63519 | member |\n",
       "\n"
      ],
      "text/plain": [
       "  ride_id          rideable_type started_at          ended_at           \n",
       "1 E1E065E7ED285C02 classic_bike  2022-02-19 18:08:41 2022-02-19 18:23:56\n",
       "2 1602DCDC5B30FFE3 classic_bike  2022-02-20 17:41:30 2022-02-20 17:45:56\n",
       "3 BE7DD2AF4B55C4AF classic_bike  2022-02-25 18:55:56 2022-02-25 19:09:34\n",
       "4 A1789BDF844412BE classic_bike  2022-02-14 11:57:03 2022-02-14 12:04:00\n",
       "5 07DE78092C62F7B3 classic_bike  2022-02-16 05:36:06 2022-02-16 05:39:00\n",
       "6 9A2F204F04AB7E24 classic_bike  2022-02-07 09:51:57 2022-02-07 10:07:53\n",
       "  start_station_name           start_station_id end_station_name              \n",
       "1 State St & Randolph St       TA1305000029     Clark St & Lincoln Ave        \n",
       "2 Halsted St & Wrightwood Ave  TA1309000061     Southport Ave & Wrightwood Ave\n",
       "3 State St & Randolph St       TA1305000029     Canal St & Adams St           \n",
       "4 Southport Ave & Waveland Ave 13235            Broadway & Sheridan Rd        \n",
       "5 State St & Randolph St       TA1305000029     Franklin St & Lake St         \n",
       "6 St. Clair St & Erie St       13016            Franklin St & Monroe St       \n",
       "  end_station_id start_lat start_lng end_lat  end_lng   member_casual\n",
       "1 13179          41.88462  -87.62783 41.91569 -87.63460 member       \n",
       "2 TA1307000113   41.92914  -87.64908 41.92877 -87.66391 member       \n",
       "3 13011          41.88462  -87.62783 41.87926 -87.63990 member       \n",
       "4 13323          41.94815  -87.66394 41.95283 -87.64999 member       \n",
       "5 TA1307000111   41.88462  -87.62783 41.88584 -87.63550 member       \n",
       "6 TA1309000007   41.89435  -87.62280 41.88032 -87.63519 member       "
      ]
     },
     "metadata": {},
     "output_type": "display_data"
    },
    {
     "data": {
      "text/html": [
       "<style>\n",
       ".list-inline {list-style: none; margin:0; padding: 0}\n",
       ".list-inline>li {display: inline-block}\n",
       ".list-inline>li:not(:last-child)::after {content: \"\\00b7\"; padding: 0 .5ex}\n",
       "</style>\n",
       "<ol class=list-inline><li>'ride_id'</li><li>'rideable_type'</li><li>'started_at'</li><li>'ended_at'</li><li>'start_station_name'</li><li>'start_station_id'</li><li>'end_station_name'</li><li>'end_station_id'</li><li>'start_lat'</li><li>'start_lng'</li><li>'end_lat'</li><li>'end_lng'</li><li>'member_casual'</li></ol>\n"
      ],
      "text/latex": [
       "\\begin{enumerate*}\n",
       "\\item 'ride\\_id'\n",
       "\\item 'rideable\\_type'\n",
       "\\item 'started\\_at'\n",
       "\\item 'ended\\_at'\n",
       "\\item 'start\\_station\\_name'\n",
       "\\item 'start\\_station\\_id'\n",
       "\\item 'end\\_station\\_name'\n",
       "\\item 'end\\_station\\_id'\n",
       "\\item 'start\\_lat'\n",
       "\\item 'start\\_lng'\n",
       "\\item 'end\\_lat'\n",
       "\\item 'end\\_lng'\n",
       "\\item 'member\\_casual'\n",
       "\\end{enumerate*}\n"
      ],
      "text/markdown": [
       "1. 'ride_id'\n",
       "2. 'rideable_type'\n",
       "3. 'started_at'\n",
       "4. 'ended_at'\n",
       "5. 'start_station_name'\n",
       "6. 'start_station_id'\n",
       "7. 'end_station_name'\n",
       "8. 'end_station_id'\n",
       "9. 'start_lat'\n",
       "10. 'start_lng'\n",
       "11. 'end_lat'\n",
       "12. 'end_lng'\n",
       "13. 'member_casual'\n",
       "\n",
       "\n"
      ],
      "text/plain": [
       " [1] \"ride_id\"            \"rideable_type\"      \"started_at\"        \n",
       " [4] \"ended_at\"           \"start_station_name\" \"start_station_id\"  \n",
       " [7] \"end_station_name\"   \"end_station_id\"     \"start_lat\"         \n",
       "[10] \"start_lng\"          \"end_lat\"            \"end_lng\"           \n",
       "[13] \"member_casual\"     "
      ]
     },
     "metadata": {},
     "output_type": "display_data"
    },
    {
     "data": {
      "text/html": [
       "<style>\n",
       ".list-inline {list-style: none; margin:0; padding: 0}\n",
       ".list-inline>li {display: inline-block}\n",
       ".list-inline>li:not(:last-child)::after {content: \"\\00b7\"; padding: 0 .5ex}\n",
       "</style>\n",
       "<ol class=list-inline><li>5754248</li><li>13</li></ol>\n"
      ],
      "text/latex": [
       "\\begin{enumerate*}\n",
       "\\item 5754248\n",
       "\\item 13\n",
       "\\end{enumerate*}\n"
      ],
      "text/markdown": [
       "1. 5754248\n",
       "2. 13\n",
       "\n",
       "\n"
      ],
      "text/plain": [
       "[1] 5754248      13"
      ]
     },
     "metadata": {},
     "output_type": "display_data"
    }
   ],
   "source": [
    "head(all_data)\n",
    "colnames(all_data)\n",
    "dim(all_data)"
   ]
  },
  {
   "cell_type": "code",
   "execution_count": 4,
   "id": "aeeb2f2e",
   "metadata": {
    "execution": {
     "iopub.execute_input": "2023-02-22T03:24:41.580720Z",
     "iopub.status.busy": "2023-02-22T03:24:41.579114Z",
     "iopub.status.idle": "2023-02-22T03:24:44.170464Z",
     "shell.execute_reply": "2023-02-22T03:24:44.168304Z"
    },
    "papermill": {
     "duration": 2.606239,
     "end_time": "2023-02-22T03:24:44.173032",
     "exception": false,
     "start_time": "2023-02-22T03:24:41.566793",
     "status": "completed"
    },
    "tags": []
   },
   "outputs": [
    {
     "data": {
      "text/html": [
       "<style>\n",
       ".dl-inline {width: auto; margin:0; padding: 0}\n",
       ".dl-inline>dt, .dl-inline>dd {float: none; width: auto; display: inline-block}\n",
       ".dl-inline>dt::after {content: \":\\0020\"; padding-right: .5ex}\n",
       ".dl-inline>dt:not(:first-of-type) {padding-left: .5ex}\n",
       "</style><dl class=dl-inline><dt>ride_id</dt><dd>0</dd><dt>rideable_type</dt><dd>0</dd><dt>started_at</dt><dd>0</dd><dt>ended_at</dt><dd>0</dd><dt>start_station_name</dt><dd>843525</dd><dt>start_station_id</dt><dd>843525</dd><dt>end_station_name</dt><dd>902655</dd><dt>end_station_id</dt><dd>902655</dd><dt>start_lat</dt><dd>0</dd><dt>start_lng</dt><dd>0</dd><dt>end_lat</dt><dd>5899</dd><dt>end_lng</dt><dd>5899</dd><dt>member_casual</dt><dd>0</dd></dl>\n"
      ],
      "text/latex": [
       "\\begin{description*}\n",
       "\\item[ride\\textbackslash{}\\_id] 0\n",
       "\\item[rideable\\textbackslash{}\\_type] 0\n",
       "\\item[started\\textbackslash{}\\_at] 0\n",
       "\\item[ended\\textbackslash{}\\_at] 0\n",
       "\\item[start\\textbackslash{}\\_station\\textbackslash{}\\_name] 843525\n",
       "\\item[start\\textbackslash{}\\_station\\textbackslash{}\\_id] 843525\n",
       "\\item[end\\textbackslash{}\\_station\\textbackslash{}\\_name] 902655\n",
       "\\item[end\\textbackslash{}\\_station\\textbackslash{}\\_id] 902655\n",
       "\\item[start\\textbackslash{}\\_lat] 0\n",
       "\\item[start\\textbackslash{}\\_lng] 0\n",
       "\\item[end\\textbackslash{}\\_lat] 5899\n",
       "\\item[end\\textbackslash{}\\_lng] 5899\n",
       "\\item[member\\textbackslash{}\\_casual] 0\n",
       "\\end{description*}\n"
      ],
      "text/markdown": [
       "ride_id\n",
       ":   0rideable_type\n",
       ":   0started_at\n",
       ":   0ended_at\n",
       ":   0start_station_name\n",
       ":   843525start_station_id\n",
       ":   843525end_station_name\n",
       ":   902655end_station_id\n",
       ":   902655start_lat\n",
       ":   0start_lng\n",
       ":   0end_lat\n",
       ":   5899end_lng\n",
       ":   5899member_casual\n",
       ":   0\n",
       "\n"
      ],
      "text/plain": [
       "           ride_id      rideable_type         started_at           ended_at \n",
       "                 0                  0                  0                  0 \n",
       "start_station_name   start_station_id   end_station_name     end_station_id \n",
       "            843525             843525             902655             902655 \n",
       "         start_lat          start_lng            end_lat            end_lng \n",
       "                 0                  0               5899               5899 \n",
       "     member_casual \n",
       "                 0 "
      ]
     },
     "metadata": {},
     "output_type": "display_data"
    },
    {
     "data": {
      "text/html": [
       "0"
      ],
      "text/latex": [
       "0"
      ],
      "text/markdown": [
       "0"
      ],
      "text/plain": [
       "[1] 0"
      ]
     },
     "metadata": {},
     "output_type": "display_data"
    }
   ],
   "source": [
    "# find all the NA values in each column\n",
    "sapply(all_data, function(x) sum(is.na(x)))\n",
    "\n",
    "# find duplicates\n",
    "sum(duplicated(all_data$ride_id))"
   ]
  },
  {
   "cell_type": "markdown",
   "id": "62cda505",
   "metadata": {
    "papermill": {
     "duration": 0.009823,
     "end_time": "2023-02-22T03:24:44.192841",
     "exception": false,
     "start_time": "2023-02-22T03:24:44.183018",
     "status": "completed"
    },
    "tags": []
   },
   "source": [
    "Due to only certain columns having NA values, I want to look at those rows more closely."
   ]
  },
  {
   "cell_type": "code",
   "execution_count": 5,
   "id": "e7384a8f",
   "metadata": {
    "execution": {
     "iopub.execute_input": "2023-02-22T03:24:44.215908Z",
     "iopub.status.busy": "2023-02-22T03:24:44.214354Z",
     "iopub.status.idle": "2023-02-22T03:24:44.387153Z",
     "shell.execute_reply": "2023-02-22T03:24:44.385459Z"
    },
    "papermill": {
     "duration": 0.18734,
     "end_time": "2023-02-22T03:24:44.390119",
     "exception": false,
     "start_time": "2023-02-22T03:24:44.202779",
     "status": "completed"
    },
    "tags": []
   },
   "outputs": [
    {
     "data": {
      "text/html": [
       "<table class=\"dataframe\">\n",
       "<caption>A tibble: 6 × 13</caption>\n",
       "<thead>\n",
       "\t<tr><th scope=col>ride_id</th><th scope=col>rideable_type</th><th scope=col>started_at</th><th scope=col>ended_at</th><th scope=col>start_station_name</th><th scope=col>start_station_id</th><th scope=col>end_station_name</th><th scope=col>end_station_id</th><th scope=col>start_lat</th><th scope=col>start_lng</th><th scope=col>end_lat</th><th scope=col>end_lng</th><th scope=col>member_casual</th></tr>\n",
       "\t<tr><th scope=col>&lt;chr&gt;</th><th scope=col>&lt;chr&gt;</th><th scope=col>&lt;dttm&gt;</th><th scope=col>&lt;dttm&gt;</th><th scope=col>&lt;chr&gt;</th><th scope=col>&lt;chr&gt;</th><th scope=col>&lt;chr&gt;</th><th scope=col>&lt;chr&gt;</th><th scope=col>&lt;dbl&gt;</th><th scope=col>&lt;dbl&gt;</th><th scope=col>&lt;dbl&gt;</th><th scope=col>&lt;dbl&gt;</th><th scope=col>&lt;chr&gt;</th></tr>\n",
       "</thead>\n",
       "<tbody>\n",
       "\t<tr><td>1F1E6810649A9E01</td><td>docked_bike </td><td>2022-02-18 18:51:18</td><td>2022-02-19 19:51:18</td><td>Wabash Ave &amp; Grand Ave</td><td>TA1307000117</td><td>NA</td><td>NA</td><td>41.89147</td><td>-87.62676</td><td>NA</td><td>NA</td><td>casual</td></tr>\n",
       "\t<tr><td>4A5DB0B7B07F42E4</td><td>classic_bike</td><td>2022-02-24 07:27:57</td><td>2022-02-25 08:27:47</td><td><span style=white-space:pre-wrap>MLK Jr Dr &amp; 63rd St   </span></td><td>KA1503000053</td><td>NA</td><td>NA</td><td>41.78008</td><td>-87.61594</td><td>NA</td><td>NA</td><td>casual</td></tr>\n",
       "\t<tr><td>C0884642952963B6</td><td>classic_bike</td><td>2022-02-15 16:20:31</td><td>2022-02-16 17:20:26</td><td>Austin Blvd &amp; Lake St </td><td><span style=white-space:pre-wrap>16906       </span></td><td>NA</td><td>NA</td><td>41.88792</td><td>-87.77445</td><td>NA</td><td>NA</td><td>casual</td></tr>\n",
       "\t<tr><td>8A8508A3B2E36B6F</td><td>classic_bike</td><td>2022-02-26 14:37:15</td><td>2022-02-27 15:37:09</td><td>Millennium Park       </td><td>13008       </td><td>NA</td><td>NA</td><td>41.88103</td><td>-87.62408</td><td>NA</td><td>NA</td><td>casual</td></tr>\n",
       "\t<tr><td>8425446669F46A05</td><td>classic_bike</td><td>2022-02-17 12:02:27</td><td>2022-02-18 13:02:20</td><td>Wells St &amp; Concord Ln </td><td>TA1308000050</td><td>NA</td><td>NA</td><td>41.91213</td><td>-87.63466</td><td>NA</td><td>NA</td><td>casual</td></tr>\n",
       "\t<tr><td>ACFA4699373A39FE</td><td>classic_bike</td><td>2022-02-21 00:57:02</td><td>2022-02-22 01:56:54</td><td><span style=white-space:pre-wrap>Clinton St &amp; Lake St  </span></td><td><span style=white-space:pre-wrap>13021       </span></td><td>NA</td><td>NA</td><td>41.88564</td><td>-87.64182</td><td>NA</td><td>NA</td><td>member</td></tr>\n",
       "</tbody>\n",
       "</table>\n"
      ],
      "text/latex": [
       "A tibble: 6 × 13\n",
       "\\begin{tabular}{lllllllllllll}\n",
       " ride\\_id & rideable\\_type & started\\_at & ended\\_at & start\\_station\\_name & start\\_station\\_id & end\\_station\\_name & end\\_station\\_id & start\\_lat & start\\_lng & end\\_lat & end\\_lng & member\\_casual\\\\\n",
       " <chr> & <chr> & <dttm> & <dttm> & <chr> & <chr> & <chr> & <chr> & <dbl> & <dbl> & <dbl> & <dbl> & <chr>\\\\\n",
       "\\hline\n",
       "\t 1F1E6810649A9E01 & docked\\_bike  & 2022-02-18 18:51:18 & 2022-02-19 19:51:18 & Wabash Ave \\& Grand Ave & TA1307000117 & NA & NA & 41.89147 & -87.62676 & NA & NA & casual\\\\\n",
       "\t 4A5DB0B7B07F42E4 & classic\\_bike & 2022-02-24 07:27:57 & 2022-02-25 08:27:47 & MLK Jr Dr \\& 63rd St    & KA1503000053 & NA & NA & 41.78008 & -87.61594 & NA & NA & casual\\\\\n",
       "\t C0884642952963B6 & classic\\_bike & 2022-02-15 16:20:31 & 2022-02-16 17:20:26 & Austin Blvd \\& Lake St  & 16906        & NA & NA & 41.88792 & -87.77445 & NA & NA & casual\\\\\n",
       "\t 8A8508A3B2E36B6F & classic\\_bike & 2022-02-26 14:37:15 & 2022-02-27 15:37:09 & Millennium Park        & 13008        & NA & NA & 41.88103 & -87.62408 & NA & NA & casual\\\\\n",
       "\t 8425446669F46A05 & classic\\_bike & 2022-02-17 12:02:27 & 2022-02-18 13:02:20 & Wells St \\& Concord Ln  & TA1308000050 & NA & NA & 41.91213 & -87.63466 & NA & NA & casual\\\\\n",
       "\t ACFA4699373A39FE & classic\\_bike & 2022-02-21 00:57:02 & 2022-02-22 01:56:54 & Clinton St \\& Lake St   & 13021        & NA & NA & 41.88564 & -87.64182 & NA & NA & member\\\\\n",
       "\\end{tabular}\n"
      ],
      "text/markdown": [
       "\n",
       "A tibble: 6 × 13\n",
       "\n",
       "| ride_id &lt;chr&gt; | rideable_type &lt;chr&gt; | started_at &lt;dttm&gt; | ended_at &lt;dttm&gt; | start_station_name &lt;chr&gt; | start_station_id &lt;chr&gt; | end_station_name &lt;chr&gt; | end_station_id &lt;chr&gt; | start_lat &lt;dbl&gt; | start_lng &lt;dbl&gt; | end_lat &lt;dbl&gt; | end_lng &lt;dbl&gt; | member_casual &lt;chr&gt; |\n",
       "|---|---|---|---|---|---|---|---|---|---|---|---|---|\n",
       "| 1F1E6810649A9E01 | docked_bike  | 2022-02-18 18:51:18 | 2022-02-19 19:51:18 | Wabash Ave &amp; Grand Ave | TA1307000117 | NA | NA | 41.89147 | -87.62676 | NA | NA | casual |\n",
       "| 4A5DB0B7B07F42E4 | classic_bike | 2022-02-24 07:27:57 | 2022-02-25 08:27:47 | MLK Jr Dr &amp; 63rd St    | KA1503000053 | NA | NA | 41.78008 | -87.61594 | NA | NA | casual |\n",
       "| C0884642952963B6 | classic_bike | 2022-02-15 16:20:31 | 2022-02-16 17:20:26 | Austin Blvd &amp; Lake St  | 16906        | NA | NA | 41.88792 | -87.77445 | NA | NA | casual |\n",
       "| 8A8508A3B2E36B6F | classic_bike | 2022-02-26 14:37:15 | 2022-02-27 15:37:09 | Millennium Park        | 13008        | NA | NA | 41.88103 | -87.62408 | NA | NA | casual |\n",
       "| 8425446669F46A05 | classic_bike | 2022-02-17 12:02:27 | 2022-02-18 13:02:20 | Wells St &amp; Concord Ln  | TA1308000050 | NA | NA | 41.91213 | -87.63466 | NA | NA | casual |\n",
       "| ACFA4699373A39FE | classic_bike | 2022-02-21 00:57:02 | 2022-02-22 01:56:54 | Clinton St &amp; Lake St   | 13021        | NA | NA | 41.88564 | -87.64182 | NA | NA | member |\n",
       "\n"
      ],
      "text/plain": [
       "  ride_id          rideable_type started_at          ended_at           \n",
       "1 1F1E6810649A9E01 docked_bike   2022-02-18 18:51:18 2022-02-19 19:51:18\n",
       "2 4A5DB0B7B07F42E4 classic_bike  2022-02-24 07:27:57 2022-02-25 08:27:47\n",
       "3 C0884642952963B6 classic_bike  2022-02-15 16:20:31 2022-02-16 17:20:26\n",
       "4 8A8508A3B2E36B6F classic_bike  2022-02-26 14:37:15 2022-02-27 15:37:09\n",
       "5 8425446669F46A05 classic_bike  2022-02-17 12:02:27 2022-02-18 13:02:20\n",
       "6 ACFA4699373A39FE classic_bike  2022-02-21 00:57:02 2022-02-22 01:56:54\n",
       "  start_station_name     start_station_id end_station_name end_station_id\n",
       "1 Wabash Ave & Grand Ave TA1307000117     NA               NA            \n",
       "2 MLK Jr Dr & 63rd St    KA1503000053     NA               NA            \n",
       "3 Austin Blvd & Lake St  16906            NA               NA            \n",
       "4 Millennium Park        13008            NA               NA            \n",
       "5 Wells St & Concord Ln  TA1308000050     NA               NA            \n",
       "6 Clinton St & Lake St   13021            NA               NA            \n",
       "  start_lat start_lng end_lat end_lng member_casual\n",
       "1 41.89147  -87.62676 NA      NA      casual       \n",
       "2 41.78008  -87.61594 NA      NA      casual       \n",
       "3 41.88792  -87.77445 NA      NA      casual       \n",
       "4 41.88103  -87.62408 NA      NA      casual       \n",
       "5 41.91213  -87.63466 NA      NA      casual       \n",
       "6 41.88564  -87.64182 NA      NA      member       "
      ]
     },
     "metadata": {},
     "output_type": "display_data"
    }
   ],
   "source": [
    "all_data %>%\n",
    "filter(is.na(all_data$end_lat)) %>%\n",
    "head()"
   ]
  },
  {
   "cell_type": "code",
   "execution_count": 6,
   "id": "b9476d76",
   "metadata": {
    "execution": {
     "iopub.execute_input": "2023-02-22T03:24:44.413782Z",
     "iopub.status.busy": "2023-02-22T03:24:44.412214Z",
     "iopub.status.idle": "2023-02-22T03:24:44.968414Z",
     "shell.execute_reply": "2023-02-22T03:24:44.966636Z"
    },
    "papermill": {
     "duration": 0.570812,
     "end_time": "2023-02-22T03:24:44.971073",
     "exception": false,
     "start_time": "2023-02-22T03:24:44.400261",
     "status": "completed"
    },
    "tags": []
   },
   "outputs": [
    {
     "data": {
      "text/html": [
       "<table class=\"dataframe\">\n",
       "<caption>A tibble: 6 × 13</caption>\n",
       "<thead>\n",
       "\t<tr><th scope=col>ride_id</th><th scope=col>rideable_type</th><th scope=col>started_at</th><th scope=col>ended_at</th><th scope=col>start_station_name</th><th scope=col>start_station_id</th><th scope=col>end_station_name</th><th scope=col>end_station_id</th><th scope=col>start_lat</th><th scope=col>start_lng</th><th scope=col>end_lat</th><th scope=col>end_lng</th><th scope=col>member_casual</th></tr>\n",
       "\t<tr><th scope=col>&lt;chr&gt;</th><th scope=col>&lt;chr&gt;</th><th scope=col>&lt;dttm&gt;</th><th scope=col>&lt;dttm&gt;</th><th scope=col>&lt;chr&gt;</th><th scope=col>&lt;chr&gt;</th><th scope=col>&lt;chr&gt;</th><th scope=col>&lt;chr&gt;</th><th scope=col>&lt;dbl&gt;</th><th scope=col>&lt;dbl&gt;</th><th scope=col>&lt;dbl&gt;</th><th scope=col>&lt;dbl&gt;</th><th scope=col>&lt;chr&gt;</th></tr>\n",
       "</thead>\n",
       "<tbody>\n",
       "\t<tr><td>A1D55B29161CC038</td><td>electric_bike</td><td>2022-02-28 18:51:10</td><td>2022-02-28 19:24:49</td><td>NA</td><td>NA</td><td>Kimball Ave &amp; Belmont Ave</td><td>KA150400009X</td><td>41.91</td><td>-87.71</td><td>41.93940</td><td>-87.71156</td><td>member</td></tr>\n",
       "\t<tr><td>49629A775A71F7C9</td><td>electric_bike</td><td>2022-02-05 07:07:31</td><td>2022-02-05 07:14:05</td><td>NA</td><td>NA</td><td><span style=white-space:pre-wrap>Logan Blvd &amp; Elston Ave  </span></td><td>TA1308000031</td><td>41.94</td><td>-87.70</td><td>41.92947</td><td>-87.68416</td><td>member</td></tr>\n",
       "\t<tr><td>A47A1C59A94837E4</td><td>electric_bike</td><td>2022-02-23 07:53:24</td><td>2022-02-23 07:59:19</td><td>NA</td><td>NA</td><td><span style=white-space:pre-wrap>Morgan St &amp; Polk St      </span></td><td>TA1307000130</td><td>41.86</td><td>-87.65</td><td>41.87174</td><td>-87.65103</td><td>member</td></tr>\n",
       "\t<tr><td>C1BC5557E24B9EFF</td><td>electric_bike</td><td>2022-02-02 11:03:40</td><td>2022-02-02 12:46:56</td><td>NA</td><td>NA</td><td><span style=white-space:pre-wrap>Wabash Ave &amp; Grand Ave   </span></td><td>TA1307000117</td><td>41.89</td><td>-87.63</td><td>41.89147</td><td>-87.62676</td><td>member</td></tr>\n",
       "\t<tr><td>71900D26BD9248F5</td><td>electric_bike</td><td>2022-02-02 13:10:25</td><td>2022-02-02 13:23:49</td><td>NA</td><td>NA</td><td><span style=white-space:pre-wrap>Wabash Ave &amp; Grand Ave   </span></td><td>TA1307000117</td><td>41.89</td><td>-87.62</td><td>41.89147</td><td>-87.62676</td><td>member</td></tr>\n",
       "\t<tr><td>ACF2C08C91A456F8</td><td>electric_bike</td><td>2022-02-02 13:35:26</td><td>2022-02-02 13:53:16</td><td>NA</td><td>NA</td><td><span style=white-space:pre-wrap>Wabash Ave &amp; Grand Ave   </span></td><td>TA1307000117</td><td>41.89</td><td>-87.62</td><td>41.89147</td><td>-87.62676</td><td>member</td></tr>\n",
       "</tbody>\n",
       "</table>\n"
      ],
      "text/latex": [
       "A tibble: 6 × 13\n",
       "\\begin{tabular}{lllllllllllll}\n",
       " ride\\_id & rideable\\_type & started\\_at & ended\\_at & start\\_station\\_name & start\\_station\\_id & end\\_station\\_name & end\\_station\\_id & start\\_lat & start\\_lng & end\\_lat & end\\_lng & member\\_casual\\\\\n",
       " <chr> & <chr> & <dttm> & <dttm> & <chr> & <chr> & <chr> & <chr> & <dbl> & <dbl> & <dbl> & <dbl> & <chr>\\\\\n",
       "\\hline\n",
       "\t A1D55B29161CC038 & electric\\_bike & 2022-02-28 18:51:10 & 2022-02-28 19:24:49 & NA & NA & Kimball Ave \\& Belmont Ave & KA150400009X & 41.91 & -87.71 & 41.93940 & -87.71156 & member\\\\\n",
       "\t 49629A775A71F7C9 & electric\\_bike & 2022-02-05 07:07:31 & 2022-02-05 07:14:05 & NA & NA & Logan Blvd \\& Elston Ave   & TA1308000031 & 41.94 & -87.70 & 41.92947 & -87.68416 & member\\\\\n",
       "\t A47A1C59A94837E4 & electric\\_bike & 2022-02-23 07:53:24 & 2022-02-23 07:59:19 & NA & NA & Morgan St \\& Polk St       & TA1307000130 & 41.86 & -87.65 & 41.87174 & -87.65103 & member\\\\\n",
       "\t C1BC5557E24B9EFF & electric\\_bike & 2022-02-02 11:03:40 & 2022-02-02 12:46:56 & NA & NA & Wabash Ave \\& Grand Ave    & TA1307000117 & 41.89 & -87.63 & 41.89147 & -87.62676 & member\\\\\n",
       "\t 71900D26BD9248F5 & electric\\_bike & 2022-02-02 13:10:25 & 2022-02-02 13:23:49 & NA & NA & Wabash Ave \\& Grand Ave    & TA1307000117 & 41.89 & -87.62 & 41.89147 & -87.62676 & member\\\\\n",
       "\t ACF2C08C91A456F8 & electric\\_bike & 2022-02-02 13:35:26 & 2022-02-02 13:53:16 & NA & NA & Wabash Ave \\& Grand Ave    & TA1307000117 & 41.89 & -87.62 & 41.89147 & -87.62676 & member\\\\\n",
       "\\end{tabular}\n"
      ],
      "text/markdown": [
       "\n",
       "A tibble: 6 × 13\n",
       "\n",
       "| ride_id &lt;chr&gt; | rideable_type &lt;chr&gt; | started_at &lt;dttm&gt; | ended_at &lt;dttm&gt; | start_station_name &lt;chr&gt; | start_station_id &lt;chr&gt; | end_station_name &lt;chr&gt; | end_station_id &lt;chr&gt; | start_lat &lt;dbl&gt; | start_lng &lt;dbl&gt; | end_lat &lt;dbl&gt; | end_lng &lt;dbl&gt; | member_casual &lt;chr&gt; |\n",
       "|---|---|---|---|---|---|---|---|---|---|---|---|---|\n",
       "| A1D55B29161CC038 | electric_bike | 2022-02-28 18:51:10 | 2022-02-28 19:24:49 | NA | NA | Kimball Ave &amp; Belmont Ave | KA150400009X | 41.91 | -87.71 | 41.93940 | -87.71156 | member |\n",
       "| 49629A775A71F7C9 | electric_bike | 2022-02-05 07:07:31 | 2022-02-05 07:14:05 | NA | NA | Logan Blvd &amp; Elston Ave   | TA1308000031 | 41.94 | -87.70 | 41.92947 | -87.68416 | member |\n",
       "| A47A1C59A94837E4 | electric_bike | 2022-02-23 07:53:24 | 2022-02-23 07:59:19 | NA | NA | Morgan St &amp; Polk St       | TA1307000130 | 41.86 | -87.65 | 41.87174 | -87.65103 | member |\n",
       "| C1BC5557E24B9EFF | electric_bike | 2022-02-02 11:03:40 | 2022-02-02 12:46:56 | NA | NA | Wabash Ave &amp; Grand Ave    | TA1307000117 | 41.89 | -87.63 | 41.89147 | -87.62676 | member |\n",
       "| 71900D26BD9248F5 | electric_bike | 2022-02-02 13:10:25 | 2022-02-02 13:23:49 | NA | NA | Wabash Ave &amp; Grand Ave    | TA1307000117 | 41.89 | -87.62 | 41.89147 | -87.62676 | member |\n",
       "| ACF2C08C91A456F8 | electric_bike | 2022-02-02 13:35:26 | 2022-02-02 13:53:16 | NA | NA | Wabash Ave &amp; Grand Ave    | TA1307000117 | 41.89 | -87.62 | 41.89147 | -87.62676 | member |\n",
       "\n"
      ],
      "text/plain": [
       "  ride_id          rideable_type started_at          ended_at           \n",
       "1 A1D55B29161CC038 electric_bike 2022-02-28 18:51:10 2022-02-28 19:24:49\n",
       "2 49629A775A71F7C9 electric_bike 2022-02-05 07:07:31 2022-02-05 07:14:05\n",
       "3 A47A1C59A94837E4 electric_bike 2022-02-23 07:53:24 2022-02-23 07:59:19\n",
       "4 C1BC5557E24B9EFF electric_bike 2022-02-02 11:03:40 2022-02-02 12:46:56\n",
       "5 71900D26BD9248F5 electric_bike 2022-02-02 13:10:25 2022-02-02 13:23:49\n",
       "6 ACF2C08C91A456F8 electric_bike 2022-02-02 13:35:26 2022-02-02 13:53:16\n",
       "  start_station_name start_station_id end_station_name          end_station_id\n",
       "1 NA                 NA               Kimball Ave & Belmont Ave KA150400009X  \n",
       "2 NA                 NA               Logan Blvd & Elston Ave   TA1308000031  \n",
       "3 NA                 NA               Morgan St & Polk St       TA1307000130  \n",
       "4 NA                 NA               Wabash Ave & Grand Ave    TA1307000117  \n",
       "5 NA                 NA               Wabash Ave & Grand Ave    TA1307000117  \n",
       "6 NA                 NA               Wabash Ave & Grand Ave    TA1307000117  \n",
       "  start_lat start_lng end_lat  end_lng   member_casual\n",
       "1 41.91     -87.71    41.93940 -87.71156 member       \n",
       "2 41.94     -87.70    41.92947 -87.68416 member       \n",
       "3 41.86     -87.65    41.87174 -87.65103 member       \n",
       "4 41.89     -87.63    41.89147 -87.62676 member       \n",
       "5 41.89     -87.62    41.89147 -87.62676 member       \n",
       "6 41.89     -87.62    41.89147 -87.62676 member       "
      ]
     },
     "metadata": {},
     "output_type": "display_data"
    }
   ],
   "source": [
    "all_data %>%\n",
    "filter(is.na(all_data$start_station_name)) %>%\n",
    "head()"
   ]
  },
  {
   "cell_type": "markdown",
   "id": "7a6c2485",
   "metadata": {
    "papermill": {
     "duration": 0.01053,
     "end_time": "2023-02-22T03:24:44.992275",
     "exception": false,
     "start_time": "2023-02-22T03:24:44.981745",
     "status": "completed"
    },
    "tags": []
   },
   "source": [
    "I decided to keep these NA values, since they still provide valuable information in regards to distance or time. Also, since I do not need station names, these NA values do not hurt my analysis."
   ]
  },
  {
   "cell_type": "markdown",
   "id": "f3eb4779",
   "metadata": {
    "papermill": {
     "duration": 0.010369,
     "end_time": "2023-02-22T03:24:45.013601",
     "exception": false,
     "start_time": "2023-02-22T03:24:45.003232",
     "status": "completed"
    },
    "tags": []
   },
   "source": [
    "### Alter/clean the data"
   ]
  },
  {
   "cell_type": "code",
   "execution_count": 7,
   "id": "ea1b353c",
   "metadata": {
    "execution": {
     "iopub.execute_input": "2023-02-22T03:24:45.038366Z",
     "iopub.status.busy": "2023-02-22T03:24:45.036804Z",
     "iopub.status.idle": "2023-02-22T03:24:52.470119Z",
     "shell.execute_reply": "2023-02-22T03:24:52.468431Z"
    },
    "papermill": {
     "duration": 7.448149,
     "end_time": "2023-02-22T03:24:52.472619",
     "exception": false,
     "start_time": "2023-02-22T03:24:45.024470",
     "status": "completed"
    },
    "tags": []
   },
   "outputs": [
    {
     "data": {
      "text/plain": [
       "  ride_length             dist         \n",
       " Min.   :-10353.35   Min.   :   0.000  \n",
       " 1st Qu.:     5.77   1st Qu.:   0.541  \n",
       " Median :    10.20   Median :   0.976  \n",
       " Mean   :    19.31   Mean   :   1.327  \n",
       " 3rd Qu.:    18.33   3rd Qu.:   1.725  \n",
       " Max.   : 41387.25   Max.   :6106.317  \n",
       "                     NA's   :5899      "
      ]
     },
     "metadata": {},
     "output_type": "display_data"
    }
   ],
   "source": [
    "# add two columns (ride length in mins and weekday)\n",
    "all_data <- all_data %>% \n",
    "  mutate(ride_length = difftime(ended_at,started_at, units= 'mins')) %>% \n",
    "  mutate(weekday = weekdays(started_at))\n",
    "\n",
    "# change data type for ride length to numeric from date time\n",
    "all_data$ride_length <- as.numeric(all_data$ride_length)\n",
    "\n",
    "# calculate distance in meters using Haversine formula\n",
    "all_data$dist <- geodist_vec(\n",
    "  x1 = all_data$start_lng\n",
    "  , y1 = all_data$start_lat\n",
    "  , x2 = all_data$end_lng\n",
    "  , y2 = all_data$end_lat\n",
    "  , paired = TRUE\n",
    "  , measure = \"haversine\"\n",
    ")\n",
    "\n",
    "# convert distance from meters to miles\n",
    "all_data$dist <- all_data$dist/1609\n",
    "\n",
    "all_data %>% \n",
    "  select(ride_length, dist) %>% \n",
    "  summary()"
   ]
  },
  {
   "cell_type": "markdown",
   "id": "4b69e23c",
   "metadata": {
    "papermill": {
     "duration": 0.011851,
     "end_time": "2023-02-22T03:24:52.495143",
     "exception": false,
     "start_time": "2023-02-22T03:24:52.483292",
     "status": "completed"
    },
    "tags": []
   },
   "source": [
    "Due to the minimum being negative for ride length (this is impossible), I will be filtering only the positive values (>0). For distance, I will also be keeping all non-zero values."
   ]
  },
  {
   "cell_type": "code",
   "execution_count": 8,
   "id": "4821849d",
   "metadata": {
    "execution": {
     "iopub.execute_input": "2023-02-22T03:24:52.519831Z",
     "iopub.status.busy": "2023-02-22T03:24:52.518356Z",
     "iopub.status.idle": "2023-02-22T03:24:59.899484Z",
     "shell.execute_reply": "2023-02-22T03:24:59.897839Z"
    },
    "papermill": {
     "duration": 7.396476,
     "end_time": "2023-02-22T03:24:59.902323",
     "exception": false,
     "start_time": "2023-02-22T03:24:52.505847",
     "status": "completed"
    },
    "tags": []
   },
   "outputs": [
    {
     "data": {
      "text/plain": [
       "  ride_length            dist         \n",
       " Min.   :    0.02   Min.   :   0.000  \n",
       " 1st Qu.:    5.98   1st Qu.:   0.620  \n",
       " Median :   10.28   Median :   1.029  \n",
       " Mean   :   19.11   Mean   :   1.404  \n",
       " 3rd Qu.:   18.07   3rd Qu.:   1.789  \n",
       " Max.   :41387.25   Max.   :6106.317  \n",
       "                    NA's   :5899      "
      ]
     },
     "metadata": {},
     "output_type": "display_data"
    }
   ],
   "source": [
    "# filter values to be bigger than 0 or to be NA\n",
    "all_data <- all_data %>% \n",
    "  filter(ride_length > 0) %>% \n",
    "  filter(dist > 0 | is.na(dist))\n",
    "\n",
    "all_data %>% \n",
    "  select(ride_length, dist) %>% \n",
    "  summary()"
   ]
  },
  {
   "cell_type": "markdown",
   "id": "64d88bbe",
   "metadata": {
    "papermill": {
     "duration": 0.011004,
     "end_time": "2023-02-22T03:24:59.924582",
     "exception": false,
     "start_time": "2023-02-22T03:24:59.913578",
     "status": "completed"
    },
    "tags": []
   },
   "source": [
    "### Create subsets for data frames (members vs casual)"
   ]
  },
  {
   "cell_type": "code",
   "execution_count": 9,
   "id": "cbf14e53",
   "metadata": {
    "execution": {
     "iopub.execute_input": "2023-02-22T03:24:59.950085Z",
     "iopub.status.busy": "2023-02-22T03:24:59.948527Z",
     "iopub.status.idle": "2023-02-22T03:25:01.209867Z",
     "shell.execute_reply": "2023-02-22T03:25:01.208083Z"
    },
    "papermill": {
     "duration": 1.276738,
     "end_time": "2023-02-22T03:25:01.212366",
     "exception": false,
     "start_time": "2023-02-22T03:24:59.935628",
     "status": "completed"
    },
    "tags": []
   },
   "outputs": [
    {
     "data": {
      "text/html": [
       "<style>\n",
       ".list-inline {list-style: none; margin:0; padding: 0}\n",
       ".list-inline>li {display: inline-block}\n",
       ".list-inline>li:not(:last-child)::after {content: \"\\00b7\"; padding: 0 .5ex}\n",
       "</style>\n",
       "<ol class=list-inline><li>2165987</li><li>16</li></ol>\n"
      ],
      "text/latex": [
       "\\begin{enumerate*}\n",
       "\\item 2165987\n",
       "\\item 16\n",
       "\\end{enumerate*}\n"
      ],
      "text/markdown": [
       "1. 2165987\n",
       "2. 16\n",
       "\n",
       "\n"
      ],
      "text/plain": [
       "[1] 2165987      16"
      ]
     },
     "metadata": {},
     "output_type": "display_data"
    }
   ],
   "source": [
    "# create subsets\n",
    "casual <- subset(all_data, member_casual == 'casual')\n",
    "member <- subset(all_data, member_casual == 'member')\n",
    "\n",
    "dim(casual)"
   ]
  },
  {
   "cell_type": "markdown",
   "id": "ce24bf1f",
   "metadata": {
    "papermill": {
     "duration": 0.010851,
     "end_time": "2023-02-22T03:25:01.234230",
     "exception": false,
     "start_time": "2023-02-22T03:25:01.223379",
     "status": "completed"
    },
    "tags": []
   },
   "source": [
    "## STAGE 4: ANALYZE\n",
    "\n",
    "### Summary of data"
   ]
  },
  {
   "cell_type": "code",
   "execution_count": 10,
   "id": "2858ab88",
   "metadata": {
    "execution": {
     "iopub.execute_input": "2023-02-22T03:25:01.260515Z",
     "iopub.status.busy": "2023-02-22T03:25:01.258952Z",
     "iopub.status.idle": "2023-02-22T03:25:02.159044Z",
     "shell.execute_reply": "2023-02-22T03:25:02.156844Z"
    },
    "papermill": {
     "duration": 0.917197,
     "end_time": "2023-02-22T03:25:02.162410",
     "exception": false,
     "start_time": "2023-02-22T03:25:01.245213",
     "status": "completed"
    },
    "tags": []
   },
   "outputs": [
    {
     "data": {
      "text/plain": [
       "  ride_length             dist         \n",
       " Min.   :   0.0167   Min.   :   0.000  \n",
       " 1st Qu.:   5.2500   1st Qu.:   0.581  \n",
       " Median :   8.9000   Median :   0.980  \n",
       " Mean   :  12.6667   Mean   :   1.365  \n",
       " 3rd Qu.:  15.1667   3rd Qu.:   1.739  \n",
       " Max.   :1559.9000   Max.   :6105.886  \n",
       "                     NA's   :684       "
      ]
     },
     "metadata": {},
     "output_type": "display_data"
    },
    {
     "data": {
      "text/plain": [
       "  ride_length            dist         \n",
       " Min.   :    0.02   Min.   :   0.000  \n",
       " 1st Qu.:    7.57   1st Qu.:   0.687  \n",
       " Median :   12.93   Median :   1.111  \n",
       " Mean   :   28.83   Mean   :   1.464  \n",
       " 3rd Qu.:   23.22   3rd Qu.:   1.857  \n",
       " Max.   :41387.25   Max.   :6106.317  \n",
       "                    NA's   :5215      "
      ]
     },
     "metadata": {},
     "output_type": "display_data"
    }
   ],
   "source": [
    "member %>% \n",
    "  select(ride_length, dist) %>% \n",
    "  summary()\n",
    "\n",
    "casual %>% \n",
    "  select(ride_length, dist) %>% \n",
    "  summary()"
   ]
  },
  {
   "cell_type": "markdown",
   "id": "7395a41f",
   "metadata": {
    "papermill": {
     "duration": 0.011257,
     "end_time": "2023-02-22T03:25:02.184727",
     "exception": false,
     "start_time": "2023-02-22T03:25:02.173470",
     "status": "completed"
    },
    "tags": []
   },
   "source": [
    "__Observations:__\n",
    "- Average ride length: members - 12.67 mins, casual riders - 28.83 mins\n",
    "- Average distance (miles): members - 1.37 miles, casual riders - 1.46 miles\n",
    "- There are a lot more NA values for casual riders (5,215) compared to members (684) for distance.\n",
    "- The max ride length is much higher for casual riders than members, but the max distance is about the same.\n",
    "\n",
    "__Insights:__\n",
    "- The disparity in ride length may be due to the fact that casual riders buy single-ride or full-day passes, and thus, each bike ride is for a purpose and most likely is for a longer time length on average. Members can bike to wherever, so they most likely will use their passes to bike whenever bike stations are available.\n",
    "- The lack of disparity in distance is very interesting, since the logic applied above should be the same for this category. One possible explanation is that people will return their bikes near their original location, so the distance recorded in this category is not actually the true distance travelled.\n",
    "\n",
    "__Questions:__\n",
    "- Why are there so much more NA values for casual riders?"
   ]
  },
  {
   "cell_type": "code",
   "execution_count": 11,
   "id": "2f1e37e6",
   "metadata": {
    "execution": {
     "iopub.execute_input": "2023-02-22T03:25:02.210572Z",
     "iopub.status.busy": "2023-02-22T03:25:02.209019Z",
     "iopub.status.idle": "2023-02-22T03:25:03.172853Z",
     "shell.execute_reply": "2023-02-22T03:25:03.170833Z"
    },
    "papermill": {
     "duration": 0.97968,
     "end_time": "2023-02-22T03:25:03.175634",
     "exception": false,
     "start_time": "2023-02-22T03:25:02.195954",
     "status": "completed"
    },
    "tags": []
   },
   "outputs": [
    {
     "data": {
      "text/html": [
       "1.36452581579386"
      ],
      "text/latex": [
       "1.36452581579386"
      ],
      "text/markdown": [
       "1.36452581579386"
      ],
      "text/plain": [
       "[1] 1.364526"
      ]
     },
     "metadata": {},
     "output_type": "display_data"
    },
    {
     "data": {
      "text/html": [
       "1.46381909175039"
      ],
      "text/latex": [
       "1.46381909175039"
      ],
      "text/markdown": [
       "1.46381909175039"
      ],
      "text/plain": [
       "[1] 1.463819"
      ]
     },
     "metadata": {},
     "output_type": "display_data"
    },
    {
     "data": {
      "text/plain": [
       "\n",
       "\tWelch Two Sample t-test\n",
       "\n",
       "data:  member$dist and casual$dist\n",
       "t = -16.118, df = 5394550, p-value < 2.2e-16\n",
       "alternative hypothesis: true difference in means is not equal to 0\n",
       "95 percent confidence interval:\n",
       " -0.11136729 -0.08721926\n",
       "sample estimates:\n",
       "mean of x mean of y \n",
       " 1.364526  1.463819 \n"
      ]
     },
     "metadata": {},
     "output_type": "display_data"
    },
    {
     "data": {
      "text/html": [
       "12.6666804298851"
      ],
      "text/latex": [
       "12.6666804298851"
      ],
      "text/markdown": [
       "12.6666804298851"
      ],
      "text/plain": [
       "[1] 12.66668"
      ]
     },
     "metadata": {},
     "output_type": "display_data"
    },
    {
     "data": {
      "text/html": [
       "28.8336457159407"
      ],
      "text/latex": [
       "28.8336457159407"
      ],
      "text/markdown": [
       "28.8336457159407"
      ],
      "text/plain": [
       "[1] 28.83365"
      ]
     },
     "metadata": {},
     "output_type": "display_data"
    },
    {
     "data": {
      "text/plain": [
       "\n",
       "\tWelch Two Sample t-test\n",
       "\n",
       "data:  member$ride_length and casual$ride_length\n",
       "t = -83.925, df = 2195382, p-value < 2.2e-16\n",
       "alternative hypothesis: true difference in means is not equal to 0\n",
       "95 percent confidence interval:\n",
       " -16.54452 -15.78941\n",
       "sample estimates:\n",
       "mean of x mean of y \n",
       " 12.66668  28.83365 \n"
      ]
     },
     "metadata": {},
     "output_type": "display_data"
    }
   ],
   "source": [
    "mean(member$dist,na.rm = T) #1.365\n",
    "mean(casual$dist,na.rm = T) #1.464\n",
    "\n",
    "# t-test\n",
    "t.test(member$dist, casual$dist, alternative = 'two.sided')\n",
    "# 95% confidence: biking distance for members will be 0.087 to 0.11 miles shorter than the biking distance for casual riders.\n",
    "# p-value = 0 < 0.05, statistically significant\n",
    "# This means that casual riders bike for longer distances than members.\n",
    "\n",
    "mean(member$ride_length,na.rm= T) #12.67\n",
    "mean(casual$ride_length,na.rm= T) #28.83\n",
    "\n",
    "# t-test\n",
    "t.test(member$ride_length, casual$ride_length, alternative = 'two.sided')\n",
    "# 95% confidence: ride length is 15.8 to 16.5 mins longer for casual riders than for members.\n",
    "# p-value = 0 < 0.05, statistically significant\n",
    "# This means that casual riders bike for longer time frames than members.\n"
   ]
  },
  {
   "cell_type": "markdown",
   "id": "88ccb1e9",
   "metadata": {
    "papermill": {
     "duration": 0.012189,
     "end_time": "2023-02-22T03:25:03.200264",
     "exception": false,
     "start_time": "2023-02-22T03:25:03.188075",
     "status": "completed"
    },
    "tags": []
   },
   "source": [
    "I performed two sample t-tests for both the distance and ride length.\n",
    "\n",
    "__Observations:__\n",
    "- Both p-values were extremely low (rounded to 0), which means that the null hypotheses in both can be rejected. Casual riders ride their bikes for longer distances and for longer lengths of time.\n",
    "- Based on a 95% confidence interval, casual riders ride their bikes for 0.087 to 0.11 miles farther than members, and casual riders ride 15.79 to 16.5 more minutes than members."
   ]
  },
  {
   "cell_type": "code",
   "execution_count": 12,
   "id": "e3ada7d0",
   "metadata": {
    "execution": {
     "iopub.execute_input": "2023-02-22T03:25:03.228346Z",
     "iopub.status.busy": "2023-02-22T03:25:03.226809Z",
     "iopub.status.idle": "2023-02-22T03:25:04.381257Z",
     "shell.execute_reply": "2023-02-22T03:25:04.379519Z"
    },
    "papermill": {
     "duration": 1.171025,
     "end_time": "2023-02-22T03:25:04.383650",
     "exception": false,
     "start_time": "2023-02-22T03:25:03.212625",
     "status": "completed"
    },
    "tags": []
   },
   "outputs": [
    {
     "data": {
      "text/html": [
       "<table class=\"dataframe\">\n",
       "<caption>A tibble: 10 × 2</caption>\n",
       "<thead>\n",
       "\t<tr><th scope=col>start_station_name</th><th scope=col>n</th></tr>\n",
       "\t<tr><th scope=col>&lt;chr&gt;</th><th scope=col>&lt;int&gt;</th></tr>\n",
       "</thead>\n",
       "<tbody>\n",
       "\t<tr><td><span style=white-space:pre-wrap>Streeter Dr &amp; Grand Ave           </span></td><td>50197</td></tr>\n",
       "\t<tr><td>DuSable Lake Shore Dr &amp; Monroe St </td><td>27117</td></tr>\n",
       "\t<tr><td>Millennium Park                   </td><td>22791</td></tr>\n",
       "\t<tr><td><span style=white-space:pre-wrap>Michigan Ave &amp; Oak St             </span></td><td>21952</td></tr>\n",
       "\t<tr><td>DuSable Lake Shore Dr &amp; North Blvd</td><td>21833</td></tr>\n",
       "\t<tr><td>Shedd Aquarium                    </td><td>18720</td></tr>\n",
       "\t<tr><td>Theater on the Lake               </td><td>16719</td></tr>\n",
       "\t<tr><td><span style=white-space:pre-wrap>Wells St &amp; Concord Ln             </span></td><td>15901</td></tr>\n",
       "\t<tr><td><span style=white-space:pre-wrap>Clark St &amp; Armitage Ave           </span></td><td>13197</td></tr>\n",
       "\t<tr><td><span style=white-space:pre-wrap>Clark St &amp; Lincoln Ave            </span></td><td>12828</td></tr>\n",
       "</tbody>\n",
       "</table>\n"
      ],
      "text/latex": [
       "A tibble: 10 × 2\n",
       "\\begin{tabular}{ll}\n",
       " start\\_station\\_name & n\\\\\n",
       " <chr> & <int>\\\\\n",
       "\\hline\n",
       "\t Streeter Dr \\& Grand Ave            & 50197\\\\\n",
       "\t DuSable Lake Shore Dr \\& Monroe St  & 27117\\\\\n",
       "\t Millennium Park                    & 22791\\\\\n",
       "\t Michigan Ave \\& Oak St              & 21952\\\\\n",
       "\t DuSable Lake Shore Dr \\& North Blvd & 21833\\\\\n",
       "\t Shedd Aquarium                     & 18720\\\\\n",
       "\t Theater on the Lake                & 16719\\\\\n",
       "\t Wells St \\& Concord Ln              & 15901\\\\\n",
       "\t Clark St \\& Armitage Ave            & 13197\\\\\n",
       "\t Clark St \\& Lincoln Ave             & 12828\\\\\n",
       "\\end{tabular}\n"
      ],
      "text/markdown": [
       "\n",
       "A tibble: 10 × 2\n",
       "\n",
       "| start_station_name &lt;chr&gt; | n &lt;int&gt; |\n",
       "|---|---|\n",
       "| Streeter Dr &amp; Grand Ave            | 50197 |\n",
       "| DuSable Lake Shore Dr &amp; Monroe St  | 27117 |\n",
       "| Millennium Park                    | 22791 |\n",
       "| Michigan Ave &amp; Oak St              | 21952 |\n",
       "| DuSable Lake Shore Dr &amp; North Blvd | 21833 |\n",
       "| Shedd Aquarium                     | 18720 |\n",
       "| Theater on the Lake                | 16719 |\n",
       "| Wells St &amp; Concord Ln              | 15901 |\n",
       "| Clark St &amp; Armitage Ave            | 13197 |\n",
       "| Clark St &amp; Lincoln Ave             | 12828 |\n",
       "\n"
      ],
      "text/plain": [
       "   start_station_name                 n    \n",
       "1  Streeter Dr & Grand Ave            50197\n",
       "2  DuSable Lake Shore Dr & Monroe St  27117\n",
       "3  Millennium Park                    22791\n",
       "4  Michigan Ave & Oak St              21952\n",
       "5  DuSable Lake Shore Dr & North Blvd 21833\n",
       "6  Shedd Aquarium                     18720\n",
       "7  Theater on the Lake                16719\n",
       "8  Wells St & Concord Ln              15901\n",
       "9  Clark St & Armitage Ave            13197\n",
       "10 Clark St & Lincoln Ave             12828"
      ]
     },
     "metadata": {},
     "output_type": "display_data"
    },
    {
     "data": {
      "text/html": [
       "<table class=\"dataframe\">\n",
       "<caption>A tibble: 10 × 2</caption>\n",
       "<thead>\n",
       "\t<tr><th scope=col>start_station_name</th><th scope=col>n</th></tr>\n",
       "\t<tr><th scope=col>&lt;chr&gt;</th><th scope=col>&lt;int&gt;</th></tr>\n",
       "</thead>\n",
       "<tbody>\n",
       "\t<tr><td><span style=white-space:pre-wrap>Kingsbury St &amp; Kinzie St    </span></td><td>24877</td></tr>\n",
       "\t<tr><td><span style=white-space:pre-wrap>Clark St &amp; Elm St           </span></td><td>21846</td></tr>\n",
       "\t<tr><td><span style=white-space:pre-wrap>Wells St &amp; Concord Ln       </span></td><td>21246</td></tr>\n",
       "\t<tr><td>Clinton St &amp; Washington Blvd</td><td>20447</td></tr>\n",
       "\t<tr><td><span style=white-space:pre-wrap>University Ave &amp; 57th St    </span></td><td>20383</td></tr>\n",
       "\t<tr><td><span style=white-space:pre-wrap>Ellis Ave &amp; 60th St         </span></td><td>19866</td></tr>\n",
       "\t<tr><td><span style=white-space:pre-wrap>Clinton St &amp; Madison St     </span></td><td>19041</td></tr>\n",
       "\t<tr><td><span style=white-space:pre-wrap>Wells St &amp; Elm St           </span></td><td>18998</td></tr>\n",
       "\t<tr><td><span style=white-space:pre-wrap>Loomis St &amp; Lexington St    </span></td><td>18693</td></tr>\n",
       "\t<tr><td><span style=white-space:pre-wrap>Broadway &amp; Barry Ave        </span></td><td>17514</td></tr>\n",
       "</tbody>\n",
       "</table>\n"
      ],
      "text/latex": [
       "A tibble: 10 × 2\n",
       "\\begin{tabular}{ll}\n",
       " start\\_station\\_name & n\\\\\n",
       " <chr> & <int>\\\\\n",
       "\\hline\n",
       "\t Kingsbury St \\& Kinzie St     & 24877\\\\\n",
       "\t Clark St \\& Elm St            & 21846\\\\\n",
       "\t Wells St \\& Concord Ln        & 21246\\\\\n",
       "\t Clinton St \\& Washington Blvd & 20447\\\\\n",
       "\t University Ave \\& 57th St     & 20383\\\\\n",
       "\t Ellis Ave \\& 60th St          & 19866\\\\\n",
       "\t Clinton St \\& Madison St      & 19041\\\\\n",
       "\t Wells St \\& Elm St            & 18998\\\\\n",
       "\t Loomis St \\& Lexington St     & 18693\\\\\n",
       "\t Broadway \\& Barry Ave         & 17514\\\\\n",
       "\\end{tabular}\n"
      ],
      "text/markdown": [
       "\n",
       "A tibble: 10 × 2\n",
       "\n",
       "| start_station_name &lt;chr&gt; | n &lt;int&gt; |\n",
       "|---|---|\n",
       "| Kingsbury St &amp; Kinzie St     | 24877 |\n",
       "| Clark St &amp; Elm St            | 21846 |\n",
       "| Wells St &amp; Concord Ln        | 21246 |\n",
       "| Clinton St &amp; Washington Blvd | 20447 |\n",
       "| University Ave &amp; 57th St     | 20383 |\n",
       "| Ellis Ave &amp; 60th St          | 19866 |\n",
       "| Clinton St &amp; Madison St      | 19041 |\n",
       "| Wells St &amp; Elm St            | 18998 |\n",
       "| Loomis St &amp; Lexington St     | 18693 |\n",
       "| Broadway &amp; Barry Ave         | 17514 |\n",
       "\n"
      ],
      "text/plain": [
       "   start_station_name           n    \n",
       "1  Kingsbury St & Kinzie St     24877\n",
       "2  Clark St & Elm St            21846\n",
       "3  Wells St & Concord Ln        21246\n",
       "4  Clinton St & Washington Blvd 20447\n",
       "5  University Ave & 57th St     20383\n",
       "6  Ellis Ave & 60th St          19866\n",
       "7  Clinton St & Madison St      19041\n",
       "8  Wells St & Elm St            18998\n",
       "9  Loomis St & Lexington St     18693\n",
       "10 Broadway & Barry Ave         17514"
      ]
     },
     "metadata": {},
     "output_type": "display_data"
    }
   ],
   "source": [
    "# find the most popular starting stations for both groups\n",
    "casual %>% \n",
    "  drop_na(start_station_name) %>% \n",
    "  group_by(start_station_name) %>% \n",
    "  dplyr::summarize(n = n()) %>% \n",
    "  arrange(desc(n)) %>%\n",
    "  head(10)\n",
    "\n",
    "member %>% \n",
    "  drop_na(start_station_name) %>% \n",
    "  group_by(start_station_name) %>% \n",
    "  dplyr::summarize(n = n()) %>% \n",
    "  arrange(desc(n)) %>%\n",
    "  head(10)"
   ]
  },
  {
   "cell_type": "markdown",
   "id": "f1f9d5fa",
   "metadata": {
    "papermill": {
     "duration": 0.012496,
     "end_time": "2023-02-22T03:25:04.408589",
     "exception": false,
     "start_time": "2023-02-22T03:25:04.396093",
     "status": "completed"
    },
    "tags": []
   },
   "source": [
    "__Observations:__\n",
    "- Casual riders often start riding from one particular station (Streeter Dr & Grand Ave), while there does not appear to be a starting station that is far more used for annual members.\n",
    "- There is one common station in the top ten for both groups (Wells St & Concord Ln).\n",
    "\n",
    "__Insights:__\n",
    "- Those two stations mentioned above could have more advertising in the surrounding area due to the stations' popularity."
   ]
  },
  {
   "cell_type": "code",
   "execution_count": 13,
   "id": "f6d4ce4d",
   "metadata": {
    "execution": {
     "iopub.execute_input": "2023-02-22T03:25:04.436650Z",
     "iopub.status.busy": "2023-02-22T03:25:04.435213Z",
     "iopub.status.idle": "2023-02-22T03:25:30.853065Z",
     "shell.execute_reply": "2023-02-22T03:25:30.850776Z"
    },
    "papermill": {
     "duration": 26.435083,
     "end_time": "2023-02-22T03:25:30.856157",
     "exception": false,
     "start_time": "2023-02-22T03:25:04.421074",
     "status": "completed"
    },
    "tags": []
   },
   "outputs": [
    {
     "data": {
      "text/html": [
       "<table class=\"dataframe\">\n",
       "<caption>A tibble: 12 × 2</caption>\n",
       "<thead>\n",
       "\t<tr><th scope=col>month</th><th scope=col>n</th></tr>\n",
       "\t<tr><th scope=col>&lt;chr&gt;</th><th scope=col>&lt;int&gt;</th></tr>\n",
       "</thead>\n",
       "<tbody>\n",
       "\t<tr><td>Jul</td><td>776975</td></tr>\n",
       "\t<tr><td>Aug</td><td>744426</td></tr>\n",
       "\t<tr><td>Jun</td><td>724963</td></tr>\n",
       "\t<tr><td>Sep</td><td>666896</td></tr>\n",
       "\t<tr><td>May</td><td>593403</td></tr>\n",
       "\t<tr><td>Oct</td><td>532687</td></tr>\n",
       "\t<tr><td>Apr</td><td>345482</td></tr>\n",
       "\t<tr><td>Nov</td><td>322664</td></tr>\n",
       "\t<tr><td>Mar</td><td>265974</td></tr>\n",
       "\t<tr><td>Jan</td><td>181841</td></tr>\n",
       "\t<tr><td>Dec</td><td>173920</td></tr>\n",
       "\t<tr><td>Feb</td><td>108762</td></tr>\n",
       "</tbody>\n",
       "</table>\n"
      ],
      "text/latex": [
       "A tibble: 12 × 2\n",
       "\\begin{tabular}{ll}\n",
       " month & n\\\\\n",
       " <chr> & <int>\\\\\n",
       "\\hline\n",
       "\t Jul & 776975\\\\\n",
       "\t Aug & 744426\\\\\n",
       "\t Jun & 724963\\\\\n",
       "\t Sep & 666896\\\\\n",
       "\t May & 593403\\\\\n",
       "\t Oct & 532687\\\\\n",
       "\t Apr & 345482\\\\\n",
       "\t Nov & 322664\\\\\n",
       "\t Mar & 265974\\\\\n",
       "\t Jan & 181841\\\\\n",
       "\t Dec & 173920\\\\\n",
       "\t Feb & 108762\\\\\n",
       "\\end{tabular}\n"
      ],
      "text/markdown": [
       "\n",
       "A tibble: 12 × 2\n",
       "\n",
       "| month &lt;chr&gt; | n &lt;int&gt; |\n",
       "|---|---|\n",
       "| Jul | 776975 |\n",
       "| Aug | 744426 |\n",
       "| Jun | 724963 |\n",
       "| Sep | 666896 |\n",
       "| May | 593403 |\n",
       "| Oct | 532687 |\n",
       "| Apr | 345482 |\n",
       "| Nov | 322664 |\n",
       "| Mar | 265974 |\n",
       "| Jan | 181841 |\n",
       "| Dec | 173920 |\n",
       "| Feb | 108762 |\n",
       "\n"
      ],
      "text/plain": [
       "   month n     \n",
       "1  Jul   776975\n",
       "2  Aug   744426\n",
       "3  Jun   724963\n",
       "4  Sep   666896\n",
       "5  May   593403\n",
       "6  Oct   532687\n",
       "7  Apr   345482\n",
       "8  Nov   322664\n",
       "9  Mar   265974\n",
       "10 Jan   181841\n",
       "11 Dec   173920\n",
       "12 Feb   108762"
      ]
     },
     "metadata": {},
     "output_type": "display_data"
    }
   ],
   "source": [
    "# change data type to Date from POSIXct\n",
    "all_data$started_at <- as.Date(all_data$started_at)\n",
    "\n",
    "# extract the month associated with the start time for biking\n",
    "all_data$month <- month(ymd(all_data$started_at))\n",
    "\n",
    "# change the number to months\n",
    "mymonths <- c(\"Jan\",\"Feb\",\"Mar\",\n",
    "              \"Apr\",\"May\",\"Jun\",\n",
    "              \"Jul\",\"Aug\",\"Sep\",\n",
    "              \"Oct\",\"Nov\",\"Dec\")\n",
    "all_data$month <- mymonths[all_data$month]\n",
    "\n",
    "# find the most popular months for bike rides\n",
    "all_data %>% \n",
    "  group_by(month) %>% \n",
    "  dplyr::summarize(n = n()) %>% \n",
    "  arrange(desc(n))"
   ]
  },
  {
   "cell_type": "markdown",
   "id": "4b76cfa4",
   "metadata": {
    "papermill": {
     "duration": 0.012382,
     "end_time": "2023-02-22T03:25:30.881334",
     "exception": false,
     "start_time": "2023-02-22T03:25:30.868952",
     "status": "completed"
    },
    "tags": []
   },
   "source": [
    "__Observations:__\n",
    "- July, August, and June are the 3 most popular months for bike rides (summer months). \n",
    "- February, December, and January are the 3 least popular months for bike rides (winter months).\n",
    "\n",
    "__Insights:__\n",
    "- People dislike riding bikes in the winter but enjoy riding bikes in the summer.\n",
    "- Prioritize advertising/rewards in the summer and other more active months."
   ]
  },
  {
   "cell_type": "code",
   "execution_count": 14,
   "id": "8f234275",
   "metadata": {
    "execution": {
     "iopub.execute_input": "2023-02-22T03:25:30.909726Z",
     "iopub.status.busy": "2023-02-22T03:25:30.908173Z",
     "iopub.status.idle": "2023-02-22T03:25:32.578996Z",
     "shell.execute_reply": "2023-02-22T03:25:32.577178Z"
    },
    "papermill": {
     "duration": 1.687651,
     "end_time": "2023-02-22T03:25:32.581510",
     "exception": false,
     "start_time": "2023-02-22T03:25:30.893859",
     "status": "completed"
    },
    "tags": []
   },
   "outputs": [
    {
     "data": {
      "text/html": [
       "<style>\n",
       ".list-inline {list-style: none; margin:0; padding: 0}\n",
       ".list-inline>li {display: inline-block}\n",
       ".list-inline>li:not(:last-child)::after {content: \"\\00b7\"; padding: 0 .5ex}\n",
       "</style>\n",
       "<ol class=list-inline><li>'classic_bike'</li><li>'electric_bike'</li></ol>\n"
      ],
      "text/latex": [
       "\\begin{enumerate*}\n",
       "\\item 'classic\\_bike'\n",
       "\\item 'electric\\_bike'\n",
       "\\end{enumerate*}\n"
      ],
      "text/markdown": [
       "1. 'classic_bike'\n",
       "2. 'electric_bike'\n",
       "\n",
       "\n"
      ],
      "text/plain": [
       "[1] \"classic_bike\"  \"electric_bike\""
      ]
     },
     "metadata": {},
     "output_type": "display_data"
    },
    {
     "data": {
      "text/plain": [
       "\n",
       " classic_bike electric_bike \n",
       "      1663850       1608156 "
      ]
     },
     "metadata": {},
     "output_type": "display_data"
    },
    {
     "data": {
      "text/html": [
       "<style>\n",
       ".list-inline {list-style: none; margin:0; padding: 0}\n",
       ".list-inline>li {display: inline-block}\n",
       ".list-inline>li:not(:last-child)::after {content: \"\\00b7\"; padding: 0 .5ex}\n",
       "</style>\n",
       "<ol class=list-inline><li>'classic_bike'</li><li>'docked_bike'</li><li>'electric_bike'</li></ol>\n"
      ],
      "text/latex": [
       "\\begin{enumerate*}\n",
       "\\item 'classic\\_bike'\n",
       "\\item 'docked\\_bike'\n",
       "\\item 'electric\\_bike'\n",
       "\\end{enumerate*}\n"
      ],
      "text/markdown": [
       "1. 'classic_bike'\n",
       "2. 'docked_bike'\n",
       "3. 'electric_bike'\n",
       "\n",
       "\n"
      ],
      "text/plain": [
       "[1] \"classic_bike\"  \"docked_bike\"   \"electric_bike\""
      ]
     },
     "metadata": {},
     "output_type": "display_data"
    },
    {
     "data": {
      "text/plain": [
       "\n",
       " classic_bike   docked_bike electric_bike \n",
       "       813414        146764       1205809 "
      ]
     },
     "metadata": {},
     "output_type": "display_data"
    }
   ],
   "source": [
    "# find number of each bike type\n",
    "unique(member$rideable_type) # classic ; electric\n",
    "table(member$rideable_type) # 1,663,850 ; 1,608,156\n",
    "\n",
    "unique(casual$rideable_type) # classic ; docked ; electric\n",
    "table(casual$rideable_type)  # 813,414 ; 146,764 ; 1,205,809"
   ]
  },
  {
   "cell_type": "markdown",
   "id": "25ccab04",
   "metadata": {
    "papermill": {
     "duration": 0.013762,
     "end_time": "2023-02-22T03:25:32.609378",
     "exception": false,
     "start_time": "2023-02-22T03:25:32.595616",
     "status": "completed"
    },
    "tags": []
   },
   "source": [
    "## PHASE 5: SHARE\n",
    "\n",
    "### Visualize\n",
    "\n",
    "I will first create barcharts to show which bike casual riders use vs. annual members."
   ]
  },
  {
   "cell_type": "code",
   "execution_count": 15,
   "id": "d91775a3",
   "metadata": {
    "execution": {
     "iopub.execute_input": "2023-02-22T03:25:32.640760Z",
     "iopub.status.busy": "2023-02-22T03:25:32.639251Z",
     "iopub.status.idle": "2023-02-22T03:25:33.836828Z",
     "shell.execute_reply": "2023-02-22T03:25:33.835008Z"
    },
    "papermill": {
     "duration": 1.215402,
     "end_time": "2023-02-22T03:25:33.839225",
     "exception": false,
     "start_time": "2023-02-22T03:25:32.623823",
     "status": "completed"
    },
    "tags": []
   },
   "outputs": [
    {
     "data": {
      "image/png": "[encoded data removed]"
     },
     "metadata": {
      "image/png": {
       "height": 420,
       "width": 420
      }
     },
     "output_type": "display_data"
    },
    {
     "data": {
      "image/png": "[encoded data removed]"
     },
     "metadata": {
      "image/png": {
       "height": 420,
       "width": 420
      }
     },
     "output_type": "display_data"
    }
   ],
   "source": [
    "# create new df with new column for percentages for casual riders\n",
    "casual_ridetype <- casual %>% \n",
    "  dplyr::count(rideable_type) %>% \n",
    "  dplyr::mutate(perc = n/sum(n) * 100)\n",
    "\n",
    "# add commas to the count\n",
    "casual_ridetype$n <- format(casual_ridetype$n, big.mark = ',', scientific = FALSE)\n",
    "\n",
    "# barchart for casual riders with count and percents (y value does not start at 0)\n",
    "ggplot(casual_ridetype, aes(x = rideable_type, y = n, fill=rideable_type)) + \n",
    "  geom_col() +\n",
    "  geom_text(aes(x = rideable_type, y = n,\n",
    "                    label =paste0(n, \" (\", round(perc,1),\"%)\")),\n",
    "                    vjust = -0.5) +\n",
    "  labs(title = 'Casual Riders (Bike Types)', y = 'count') +\n",
    "  scale_fill_manual(values=c(\"green\", \"red\", \"blue\"))\n",
    "\n",
    "# create new df with new column for percentages for annual riders\n",
    "member_ridetype <- member %>% \n",
    "  dplyr::count(rideable_type) %>% \n",
    "  mutate(perc = n/sum(n) *100)\n",
    "\n",
    "# add commas to the count\n",
    "member_ridetype$n <- format(member_ridetype$n, big.mark = ',', scientific = FALSE)\n",
    "\n",
    "# barchart for annual riders with count and percents (y value does not start at 0)\n",
    "ggplot(member_ridetype, aes(x = rideable_type, y = n, fill=rideable_type)) +\n",
    "  geom_col() +\n",
    "  geom_text(aes(x = rideable_type, y = n,\n",
    "                    label =paste0(n, \" (\", round(perc,1),\"%)\")),\n",
    "                    vjust = -0.5) + \n",
    "  labs(title = 'Annual Members (Bike Types)', y = 'count') +\n",
    "  scale_fill_manual(values=c(\"green\", \"blue\"))"
   ]
  },
  {
   "cell_type": "markdown",
   "id": "09c54814",
   "metadata": {
    "papermill": {
     "duration": 0.014316,
     "end_time": "2023-02-22T03:25:33.868839",
     "exception": false,
     "start_time": "2023-02-22T03:25:33.854523",
     "status": "completed"
    },
    "tags": []
   },
   "source": [
    "_NOTE:_ Both barcharts do not start at 0.\n",
    "\n",
    "__Barchart 1:__\n",
    "The first barchart shows the bike types that casual riders use. There is an overwhelming number of electric bikes that are used with classic bikes being second and docked bikes being last with very little uses. \n",
    "\n",
    "__Barchart 2:__\n",
    "The second barchart shows the bike types that annual members use. Classic and electric bikes are used almost the same number of times. "
   ]
  },
  {
   "cell_type": "code",
   "execution_count": 16,
   "id": "3da69f6d",
   "metadata": {
    "execution": {
     "iopub.execute_input": "2023-02-22T03:25:33.901754Z",
     "iopub.status.busy": "2023-02-22T03:25:33.900049Z",
     "iopub.status.idle": "2023-02-22T03:25:58.026906Z",
     "shell.execute_reply": "2023-02-22T03:25:58.024832Z"
    },
    "papermill": {
     "duration": 24.145903,
     "end_time": "2023-02-22T03:25:58.029570",
     "exception": false,
     "start_time": "2023-02-22T03:25:33.883667",
     "status": "completed"
    },
    "tags": []
   },
   "outputs": [
    {
     "data": {
      "text/plain": [
       "\n",
       "   Friday    Monday  Saturday    Sunday  Thursday   Tuesday Wednesday \n",
       "   456523    462551    427196    375246    520177    514283    516030 "
      ]
     },
     "metadata": {},
     "output_type": "display_data"
    },
    {
     "data": {
      "text/plain": [
       "\n",
       "   Friday    Monday  Saturday    Sunday  Thursday   Tuesday Wednesday \n",
       "   313577    257668    437859    358919    290136    249027    258801 "
      ]
     },
     "metadata": {},
     "output_type": "display_data"
    },
    {
     "data": {
      "image/png": "[encoded data removed]"
     },
     "metadata": {
      "image/png": {
       "height": 420,
       "width": 420
      }
     },
     "output_type": "display_data"
    },
    {
     "data": {
      "image/png": "[encoded data removed]"
     },
     "metadata": {
      "image/png": {
       "height": 420,
       "width": 420
      }
     },
     "output_type": "display_data"
    }
   ],
   "source": [
    "# look at values for bike rides for each weekday\n",
    "table(member$weekday)\n",
    "table(casual$weekday)\n",
    "\n",
    "# create barchart for number of bike rides for each day for casual riders\n",
    "ggplot(casual, aes(x = weekday, fill=weekday, label = after_stat(count))) +\n",
    "  geom_bar() +\n",
    "  geom_text(stat = 'count', vjust = -0.5, size = 3) +\n",
    "  theme(axis.text.x = element_text(angle = 90, vjust = 0.5, hjust=1)) +\n",
    "  labs(title = 'Number of Bike Rides for Casual Riders')\n",
    "\n",
    "# create barchart for the number of bike rides for each day for members\n",
    "ggplot(member, aes(x = weekday, fill=weekday, label = after_stat(count))) +\n",
    "  geom_bar() +\n",
    "  geom_text(stat = 'count', vjust = -0.5, size = 3) +\n",
    "  theme(axis.text.x = element_text(angle = 90, vjust = 0.5, hjust=1)) +\n",
    "  labs(title = 'Number of Bike Rides for Members')\n",
    "\n"
   ]
  },
  {
   "cell_type": "markdown",
   "id": "fa10e532",
   "metadata": {
    "papermill": {
     "duration": 0.016597,
     "end_time": "2023-02-22T03:25:58.063134",
     "exception": false,
     "start_time": "2023-02-22T03:25:58.046537",
     "status": "completed"
    },
    "tags": []
   },
   "source": [
    "__Barchart 1:__\n",
    "This barchart looks at the number of bike rides for casual riders for each day. Saturday is the most popular day for bike rides with Sunday being second and with Friday and Thursday being close behind in that order. The rest of the days are roughly the same with a fairly big disparity in terms of bike rides.\n",
    "\n",
    "__Barchart 2:__\n",
    "This barchart looks at the number of bike rides for annual members for each day. Tuesday, Wednesday, and Thursday are the most popular days with Sunday being last by a fairly large margin.\n",
    "\n",
    "__Insights:__\n",
    "The difference in bike rides for each day depending on the biker group is most likely due to the different intentions. Casual riders are probably buying passes to have fun, sightsee, etc., which is why the most popular days are Friday and the weekend. Annual members are probably using the bikes to get to work, which is why the middle of the week is most popular for them and why Sunday is the least popular."
   ]
  },
  {
   "cell_type": "markdown",
   "id": "746ed236",
   "metadata": {
    "papermill": {
     "duration": 0.022417,
     "end_time": "2023-02-22T03:25:58.109779",
     "exception": false,
     "start_time": "2023-02-22T03:25:58.087362",
     "status": "completed"
    },
    "tags": []
   },
   "source": [
    "## PHASE 6: ACT\n",
    "\n",
    "\n",
    "### Key insights \n",
    "1. Casual riders, on average, ride for longer periods of time and for slightly longer distances. Also, they ride more on the weekends, while members ride more on work days such as Tues, Wed, and Thurs. \n",
    "2. Casual riders prefer electric bikes the most, while there does not seem to be much of a preference for either classic or electric bikes for members.\n",
    "3. Summer months are the most popular times for bike riding, while winter months are the least popular.\n",
    "\n",
    "\n",
    "### Recommendations for marketing strategy\n",
    "1. Promote a rewards program or have some incentive for using electric bikes if you are an annual member\n",
    "    - Casual members prefer using this type of bike, so they would be more willing to switch in exchange for benefits.\n",
    "    \n",
    "    \n",
    "2. Have special perks for those who ride for a certain time length if you are an annual member\n",
    "\n",
    "3. Advertise heavily in the summer and can have advertising campaigns/billboards near the more popular bike riding stations, especially near Streeter Dr & Grand Ave. This station is the most popular starting station by far for casual riders and provide a lot of awareness for the benefits of becoming an annual member."
   ]
  },
  {
   "cell_type": "markdown",
   "id": "0c7a2789",
   "metadata": {
    "papermill": {
     "duration": 0.018872,
     "end_time": "2023-02-22T03:25:58.152543",
     "exception": false,
     "start_time": "2023-02-22T03:25:58.133671",
     "status": "completed"
    },
    "tags": []
   },
   "source": [
    "Additional relationships I could have looked at:\n",
    "1. scatterplot to see correlation between bike type and ride length (potentially tells me if people prefer using one bike over the other for longer distances)\n",
    "2. see which months are the most popular for riding (can have more ads run at this time)"
   ]
  }
 ],
 "metadata": {
  "kernelspec": {
   "display_name": "R",
   "language": "R",
   "name": "ir"
  },
  "language_info": {
   "codemirror_mode": "r",
   "file_extension": ".r",
   "mimetype": "text/x-r-source",
   "name": "R",
   "pygments_lexer": "r",
   "version": "4.0.5"
  },
  "papermill": {
   "default_parameters": {},
   "duration": 122.792259,
   "end_time": "2023-02-22T03:25:58.700746",
   "environment_variables": {},
   "exception": null,
   "input_path": "__notebook__.ipynb",
   "output_path": "__notebook__.ipynb",
   "parameters": {},
   "start_time": "2023-02-22T03:23:55.908487",
   "version": "2.4.0"
  }
 },
 "nbformat": 4,
 "nbformat_minor": 5
}
